{
 "cells": [
  {
   "cell_type": "code",
   "execution_count": 1,
   "metadata": {
    "collapsed": false
   },
   "outputs": [],
   "source": [
    "from sklearn.cross_validation import StratifiedKFold\n",
    "import pandas as pd\n"
   ]
  },
  {
   "cell_type": "code",
   "execution_count": 9,
   "metadata": {
    "collapsed": false
   },
   "outputs": [
    {
     "name": "stdout",
     "output_type": "stream",
     "text": [
      "[[  1.16000000e+02   5.98950000e+04   7.60000000e+01   6.59900000e+03]\n",
      " [  4.34254000e+05   8.65390000e+04   3.43880000e+05   2.10000000e+02]\n",
      " [  1.51540000e+04   7.03000000e+03   5.08900000e+03   3.70100000e+03]\n",
      " ..., \n",
      " [  1.77588000e+05   1.99900000e+04   1.53334000e+05   1.15000000e+02]\n",
      " [  1.99634020e+07   1.53600000e+06   1.84105970e+07   1.21000000e+02]\n",
      " [  5.64882000e+05   5.64510000e+04   5.05000000e+05   1.50000000e+01]]\n"
     ]
    }
   ],
   "source": [
    "df = pd.read_csv('bitrate.csv')\n",
    "label = df['label']\n",
    "bitrate = df[['original_bitrate', 'original_audio_bitrate', 'original_video_bitrate', 'duration']].as_matrix()\n",
    "print bitrate"
   ]
  },
  {
   "cell_type": "code",
   "execution_count": 12,
   "metadata": {
    "collapsed": false
   },
   "outputs": [],
   "source": [
    "folds = StratifiedKFold(label, n_folds=5)\n",
    "counter = 1\n",
    "for train_index, test_index in folds:\n",
    "    counter += 1\n",
    "    X_text_train, X_text_test = bitrate[train_index], bitrate[test_index]\n",
    "    y_train, y_test = label[train_index], label[test_index]\n",
    "    break"
   ]
  },
  {
   "cell_type": "code",
   "execution_count": 13,
   "metadata": {
    "collapsed": false
   },
   "outputs": [
    {
     "name": "stdout",
     "output_type": "stream",
     "text": [
      "2\n"
     ]
    }
   ],
   "source": [
    "print counter"
   ]
  },
  {
   "cell_type": "code",
   "execution_count": 15,
   "metadata": {
    "collapsed": false
   },
   "outputs": [
    {
     "data": {
      "text/plain": [
       "(6381, 4)"
      ]
     },
     "execution_count": 15,
     "metadata": {},
     "output_type": "execute_result"
    }
   ],
   "source": [
    "X_text_train.shape"
   ]
  },
  {
   "cell_type": "code",
   "execution_count": 16,
   "metadata": {
    "collapsed": false
   },
   "outputs": [
    {
     "data": {
      "text/plain": [
       "(7977, 4)"
      ]
     },
     "execution_count": 16,
     "metadata": {},
     "output_type": "execute_result"
    }
   ],
   "source": [
    "bitrate.shape"
   ]
  },
  {
   "cell_type": "code",
   "execution_count": 18,
   "metadata": {
    "collapsed": false
   },
   "outputs": [
    {
     "data": {
      "text/plain": [
       "0.7999247837532907"
      ]
     },
     "execution_count": 18,
     "metadata": {},
     "output_type": "execute_result"
    }
   ],
   "source": [
    "6381/7977.0"
   ]
  },
  {
   "cell_type": "code",
   "execution_count": null,
   "metadata": {
    "collapsed": true
   },
   "outputs": [],
   "source": []
  }
 ],
 "metadata": {
  "kernelspec": {
   "display_name": "Python 2",
   "language": "python",
   "name": "python2"
  },
  "language_info": {
   "codemirror_mode": {
    "name": "ipython",
    "version": 2
   },
   "file_extension": ".py",
   "mimetype": "text/x-python",
   "name": "python",
   "nbconvert_exporter": "python",
   "pygments_lexer": "ipython2",
   "version": "2.7.13"
  }
 },
 "nbformat": 4,
 "nbformat_minor": 2
}
