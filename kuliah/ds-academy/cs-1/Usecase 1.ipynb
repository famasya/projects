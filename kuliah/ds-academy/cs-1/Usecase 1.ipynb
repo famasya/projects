{
 "cells": [
  {
   "cell_type": "code",
   "execution_count": 3,
   "metadata": {
    "collapsed": true
   },
   "outputs": [],
   "source": [
    "import pandas as pd\n",
    "train = pd.read_csv('regression_train.csv')"
   ]
  },
  {
   "cell_type": "code",
   "execution_count": 4,
   "metadata": {
    "collapsed": false
   },
   "outputs": [
    {
     "data": {
      "text/html": [
       "<div>\n",
       "<table border=\"1\" class=\"dataframe\">\n",
       "  <thead>\n",
       "    <tr style=\"text-align: right;\">\n",
       "      <th></th>\n",
       "      <th>price</th>\n",
       "      <th>speed</th>\n",
       "      <th>hd</th>\n",
       "      <th>ram</th>\n",
       "      <th>screen</th>\n",
       "      <th>cd</th>\n",
       "      <th>multi</th>\n",
       "      <th>premium</th>\n",
       "      <th>ads</th>\n",
       "      <th>trend</th>\n",
       "    </tr>\n",
       "  </thead>\n",
       "  <tbody>\n",
       "    <tr>\n",
       "      <th>0</th>\n",
       "      <td>1499</td>\n",
       "      <td>25</td>\n",
       "      <td>80</td>\n",
       "      <td>4</td>\n",
       "      <td>14</td>\n",
       "      <td>no</td>\n",
       "      <td>no</td>\n",
       "      <td>yes</td>\n",
       "      <td>94</td>\n",
       "      <td>1</td>\n",
       "    </tr>\n",
       "    <tr>\n",
       "      <th>1</th>\n",
       "      <td>1795</td>\n",
       "      <td>33</td>\n",
       "      <td>85</td>\n",
       "      <td>2</td>\n",
       "      <td>14</td>\n",
       "      <td>no</td>\n",
       "      <td>no</td>\n",
       "      <td>yes</td>\n",
       "      <td>94</td>\n",
       "      <td>1</td>\n",
       "    </tr>\n",
       "    <tr>\n",
       "      <th>2</th>\n",
       "      <td>1595</td>\n",
       "      <td>25</td>\n",
       "      <td>170</td>\n",
       "      <td>4</td>\n",
       "      <td>15</td>\n",
       "      <td>no</td>\n",
       "      <td>no</td>\n",
       "      <td>yes</td>\n",
       "      <td>94</td>\n",
       "      <td>1</td>\n",
       "    </tr>\n",
       "    <tr>\n",
       "      <th>3</th>\n",
       "      <td>1849</td>\n",
       "      <td>25</td>\n",
       "      <td>170</td>\n",
       "      <td>8</td>\n",
       "      <td>14</td>\n",
       "      <td>no</td>\n",
       "      <td>no</td>\n",
       "      <td>no</td>\n",
       "      <td>94</td>\n",
       "      <td>1</td>\n",
       "    </tr>\n",
       "    <tr>\n",
       "      <th>4</th>\n",
       "      <td>3295</td>\n",
       "      <td>33</td>\n",
       "      <td>340</td>\n",
       "      <td>16</td>\n",
       "      <td>14</td>\n",
       "      <td>no</td>\n",
       "      <td>no</td>\n",
       "      <td>yes</td>\n",
       "      <td>94</td>\n",
       "      <td>1</td>\n",
       "    </tr>\n",
       "  </tbody>\n",
       "</table>\n",
       "</div>"
      ],
      "text/plain": [
       "   price  speed   hd  ram  screen  cd multi premium  ads  trend\n",
       "0   1499     25   80    4      14  no    no     yes   94      1\n",
       "1   1795     33   85    2      14  no    no     yes   94      1\n",
       "2   1595     25  170    4      15  no    no     yes   94      1\n",
       "3   1849     25  170    8      14  no    no      no   94      1\n",
       "4   3295     33  340   16      14  no    no     yes   94      1"
      ]
     },
     "execution_count": 4,
     "metadata": {},
     "output_type": "execute_result"
    }
   ],
   "source": [
    "train.head()"
   ]
  },
  {
   "cell_type": "code",
   "execution_count": 7,
   "metadata": {
    "collapsed": true
   },
   "outputs": [],
   "source": [
    "import seaborn as sns\n",
    "import numpy as np\n",
    "import matplotlib.pyplot as plt\n",
    "from sklearn.preprocessing import normalize\n",
    "%matplotlib inline\n",
    "plt.rcParams['figure.figsize'] = (8, 6)\n",
    "plt.rcParams['font.size'] = 14"
   ]
  },
  {
   "cell_type": "code",
   "execution_count": 8,
   "metadata": {
    "collapsed": false
   },
   "outputs": [],
   "source": [
    "train['cd'] = np.where(train.cd == 'no', 0, 1)\n",
    "train['multi'] = np.where(train.multi == 'no', 0, 1)\n",
    "train['premium'] = np.where(train.premium == 'no', 0, 1)"
   ]
  },
  {
   "cell_type": "code",
   "execution_count": 11,
   "metadata": {
    "collapsed": false
   },
   "outputs": [],
   "source": [
    "# train.head()\n",
    "train_n = train/train.max(axis=0)"
   ]
  },
  {
   "cell_type": "code",
   "execution_count": 12,
   "metadata": {
    "collapsed": false
   },
   "outputs": [
    {
     "data": {
      "text/html": [
       "<div>\n",
       "<table border=\"1\" class=\"dataframe\">\n",
       "  <thead>\n",
       "    <tr style=\"text-align: right;\">\n",
       "      <th></th>\n",
       "      <th>price</th>\n",
       "      <th>speed</th>\n",
       "      <th>hd</th>\n",
       "      <th>ram</th>\n",
       "      <th>screen</th>\n",
       "      <th>cd</th>\n",
       "      <th>multi</th>\n",
       "      <th>premium</th>\n",
       "      <th>ads</th>\n",
       "      <th>trend</th>\n",
       "    </tr>\n",
       "  </thead>\n",
       "  <tbody>\n",
       "    <tr>\n",
       "      <th>0</th>\n",
       "      <td>0.277644</td>\n",
       "      <td>0.378788</td>\n",
       "      <td>0.058394</td>\n",
       "      <td>0.1250</td>\n",
       "      <td>0.823529</td>\n",
       "      <td>0.0</td>\n",
       "      <td>0.0</td>\n",
       "      <td>1.0</td>\n",
       "      <td>0.315436</td>\n",
       "      <td>0.090909</td>\n",
       "    </tr>\n",
       "    <tr>\n",
       "      <th>1</th>\n",
       "      <td>0.332469</td>\n",
       "      <td>0.500000</td>\n",
       "      <td>0.062044</td>\n",
       "      <td>0.0625</td>\n",
       "      <td>0.823529</td>\n",
       "      <td>0.0</td>\n",
       "      <td>0.0</td>\n",
       "      <td>1.0</td>\n",
       "      <td>0.315436</td>\n",
       "      <td>0.090909</td>\n",
       "    </tr>\n",
       "    <tr>\n",
       "      <th>2</th>\n",
       "      <td>0.295425</td>\n",
       "      <td>0.378788</td>\n",
       "      <td>0.124088</td>\n",
       "      <td>0.1250</td>\n",
       "      <td>0.882353</td>\n",
       "      <td>0.0</td>\n",
       "      <td>0.0</td>\n",
       "      <td>1.0</td>\n",
       "      <td>0.315436</td>\n",
       "      <td>0.090909</td>\n",
       "    </tr>\n",
       "    <tr>\n",
       "      <th>3</th>\n",
       "      <td>0.342471</td>\n",
       "      <td>0.378788</td>\n",
       "      <td>0.124088</td>\n",
       "      <td>0.2500</td>\n",
       "      <td>0.823529</td>\n",
       "      <td>0.0</td>\n",
       "      <td>0.0</td>\n",
       "      <td>0.0</td>\n",
       "      <td>0.315436</td>\n",
       "      <td>0.090909</td>\n",
       "    </tr>\n",
       "    <tr>\n",
       "      <th>4</th>\n",
       "      <td>0.610298</td>\n",
       "      <td>0.500000</td>\n",
       "      <td>0.248175</td>\n",
       "      <td>0.5000</td>\n",
       "      <td>0.823529</td>\n",
       "      <td>0.0</td>\n",
       "      <td>0.0</td>\n",
       "      <td>1.0</td>\n",
       "      <td>0.315436</td>\n",
       "      <td>0.090909</td>\n",
       "    </tr>\n",
       "  </tbody>\n",
       "</table>\n",
       "</div>"
      ],
      "text/plain": [
       "      price     speed        hd     ram    screen   cd  multi  premium  \\\n",
       "0  0.277644  0.378788  0.058394  0.1250  0.823529  0.0    0.0      1.0   \n",
       "1  0.332469  0.500000  0.062044  0.0625  0.823529  0.0    0.0      1.0   \n",
       "2  0.295425  0.378788  0.124088  0.1250  0.882353  0.0    0.0      1.0   \n",
       "3  0.342471  0.378788  0.124088  0.2500  0.823529  0.0    0.0      0.0   \n",
       "4  0.610298  0.500000  0.248175  0.5000  0.823529  0.0    0.0      1.0   \n",
       "\n",
       "        ads     trend  \n",
       "0  0.315436  0.090909  \n",
       "1  0.315436  0.090909  \n",
       "2  0.315436  0.090909  \n",
       "3  0.315436  0.090909  \n",
       "4  0.315436  0.090909  "
      ]
     },
     "execution_count": 12,
     "metadata": {},
     "output_type": "execute_result"
    }
   ],
   "source": [
    "train_n.head()"
   ]
  },
  {
   "cell_type": "code",
   "execution_count": 13,
   "metadata": {
    "collapsed": false
   },
   "outputs": [
    {
     "data": {
      "text/html": [
       "<div>\n",
       "<table border=\"1\" class=\"dataframe\">\n",
       "  <thead>\n",
       "    <tr style=\"text-align: right;\">\n",
       "      <th></th>\n",
       "      <th>price</th>\n",
       "      <th>speed</th>\n",
       "      <th>hd</th>\n",
       "      <th>ram</th>\n",
       "      <th>screen</th>\n",
       "      <th>cd</th>\n",
       "      <th>multi</th>\n",
       "      <th>premium</th>\n",
       "      <th>ads</th>\n",
       "      <th>trend</th>\n",
       "    </tr>\n",
       "  </thead>\n",
       "  <tbody>\n",
       "    <tr>\n",
       "      <th>price</th>\n",
       "      <td>1.000000</td>\n",
       "      <td>0.517935</td>\n",
       "      <td>0.704465</td>\n",
       "      <td>0.668503</td>\n",
       "      <td>0.352986</td>\n",
       "      <td>0.150790</td>\n",
       "      <td>-0.021144</td>\n",
       "      <td>0.005149</td>\n",
       "      <td>-0.068813</td>\n",
       "      <td>-0.071111</td>\n",
       "    </tr>\n",
       "    <tr>\n",
       "      <th>speed</th>\n",
       "      <td>0.517935</td>\n",
       "      <td>1.000000</td>\n",
       "      <td>0.221766</td>\n",
       "      <td>0.157913</td>\n",
       "      <td>0.203852</td>\n",
       "      <td>0.081967</td>\n",
       "      <td>0.020941</td>\n",
       "      <td>0.098040</td>\n",
       "      <td>-0.029204</td>\n",
       "      <td>-0.022802</td>\n",
       "    </tr>\n",
       "    <tr>\n",
       "      <th>hd</th>\n",
       "      <td>0.704465</td>\n",
       "      <td>0.221766</td>\n",
       "      <td>1.000000</td>\n",
       "      <td>0.675287</td>\n",
       "      <td>0.156059</td>\n",
       "      <td>0.059927</td>\n",
       "      <td>-0.022549</td>\n",
       "      <td>0.122342</td>\n",
       "      <td>0.196587</td>\n",
       "      <td>0.197776</td>\n",
       "    </tr>\n",
       "    <tr>\n",
       "      <th>ram</th>\n",
       "      <td>0.668503</td>\n",
       "      <td>0.157913</td>\n",
       "      <td>0.675287</td>\n",
       "      <td>1.000000</td>\n",
       "      <td>0.205479</td>\n",
       "      <td>0.079692</td>\n",
       "      <td>-0.046918</td>\n",
       "      <td>0.156537</td>\n",
       "      <td>0.022742</td>\n",
       "      <td>0.021454</td>\n",
       "    </tr>\n",
       "    <tr>\n",
       "      <th>screen</th>\n",
       "      <td>0.352986</td>\n",
       "      <td>0.203852</td>\n",
       "      <td>0.156059</td>\n",
       "      <td>0.205479</td>\n",
       "      <td>1.000000</td>\n",
       "      <td>0.015051</td>\n",
       "      <td>-0.052159</td>\n",
       "      <td>0.103076</td>\n",
       "      <td>0.028272</td>\n",
       "      <td>0.052426</td>\n",
       "    </tr>\n",
       "    <tr>\n",
       "      <th>cd</th>\n",
       "      <td>0.150790</td>\n",
       "      <td>0.081967</td>\n",
       "      <td>0.059927</td>\n",
       "      <td>0.079692</td>\n",
       "      <td>0.015051</td>\n",
       "      <td>1.000000</td>\n",
       "      <td>0.417062</td>\n",
       "      <td>-0.031111</td>\n",
       "      <td>0.226426</td>\n",
       "      <td>0.209870</td>\n",
       "    </tr>\n",
       "    <tr>\n",
       "      <th>multi</th>\n",
       "      <td>-0.021144</td>\n",
       "      <td>0.020941</td>\n",
       "      <td>-0.022549</td>\n",
       "      <td>-0.046918</td>\n",
       "      <td>-0.052159</td>\n",
       "      <td>0.417062</td>\n",
       "      <td>1.000000</td>\n",
       "      <td>0.057411</td>\n",
       "      <td>0.133174</td>\n",
       "      <td>0.167014</td>\n",
       "    </tr>\n",
       "    <tr>\n",
       "      <th>premium</th>\n",
       "      <td>0.005149</td>\n",
       "      <td>0.098040</td>\n",
       "      <td>0.122342</td>\n",
       "      <td>0.156537</td>\n",
       "      <td>0.103076</td>\n",
       "      <td>-0.031111</td>\n",
       "      <td>0.057411</td>\n",
       "      <td>1.000000</td>\n",
       "      <td>-0.115509</td>\n",
       "      <td>-0.173311</td>\n",
       "    </tr>\n",
       "    <tr>\n",
       "      <th>ads</th>\n",
       "      <td>-0.068813</td>\n",
       "      <td>-0.029204</td>\n",
       "      <td>0.196587</td>\n",
       "      <td>0.022742</td>\n",
       "      <td>0.028272</td>\n",
       "      <td>0.226426</td>\n",
       "      <td>0.133174</td>\n",
       "      <td>-0.115509</td>\n",
       "      <td>1.000000</td>\n",
       "      <td>0.884870</td>\n",
       "    </tr>\n",
       "    <tr>\n",
       "      <th>trend</th>\n",
       "      <td>-0.071111</td>\n",
       "      <td>-0.022802</td>\n",
       "      <td>0.197776</td>\n",
       "      <td>0.021454</td>\n",
       "      <td>0.052426</td>\n",
       "      <td>0.209870</td>\n",
       "      <td>0.167014</td>\n",
       "      <td>-0.173311</td>\n",
       "      <td>0.884870</td>\n",
       "      <td>1.000000</td>\n",
       "    </tr>\n",
       "  </tbody>\n",
       "</table>\n",
       "</div>"
      ],
      "text/plain": [
       "            price     speed        hd       ram    screen        cd     multi  \\\n",
       "price    1.000000  0.517935  0.704465  0.668503  0.352986  0.150790 -0.021144   \n",
       "speed    0.517935  1.000000  0.221766  0.157913  0.203852  0.081967  0.020941   \n",
       "hd       0.704465  0.221766  1.000000  0.675287  0.156059  0.059927 -0.022549   \n",
       "ram      0.668503  0.157913  0.675287  1.000000  0.205479  0.079692 -0.046918   \n",
       "screen   0.352986  0.203852  0.156059  0.205479  1.000000  0.015051 -0.052159   \n",
       "cd       0.150790  0.081967  0.059927  0.079692  0.015051  1.000000  0.417062   \n",
       "multi   -0.021144  0.020941 -0.022549 -0.046918 -0.052159  0.417062  1.000000   \n",
       "premium  0.005149  0.098040  0.122342  0.156537  0.103076 -0.031111  0.057411   \n",
       "ads     -0.068813 -0.029204  0.196587  0.022742  0.028272  0.226426  0.133174   \n",
       "trend   -0.071111 -0.022802  0.197776  0.021454  0.052426  0.209870  0.167014   \n",
       "\n",
       "          premium       ads     trend  \n",
       "price    0.005149 -0.068813 -0.071111  \n",
       "speed    0.098040 -0.029204 -0.022802  \n",
       "hd       0.122342  0.196587  0.197776  \n",
       "ram      0.156537  0.022742  0.021454  \n",
       "screen   0.103076  0.028272  0.052426  \n",
       "cd      -0.031111  0.226426  0.209870  \n",
       "multi    0.057411  0.133174  0.167014  \n",
       "premium  1.000000 -0.115509 -0.173311  \n",
       "ads     -0.115509  1.000000  0.884870  \n",
       "trend   -0.173311  0.884870  1.000000  "
      ]
     },
     "execution_count": 13,
     "metadata": {},
     "output_type": "execute_result"
    }
   ],
   "source": [
    "# sns.heatmap(train.corr())\n",
    "train_n.corr()"
   ]
  },
  {
   "cell_type": "code",
   "execution_count": 31,
   "metadata": {
    "collapsed": false
   },
   "outputs": [
    {
     "data": {
      "text/plain": [
       "LinearRegression(copy_X=True, fit_intercept=True, n_jobs=1, normalize=False)"
      ]
     },
     "execution_count": 31,
     "metadata": {},
     "output_type": "execute_result"
    }
   ],
   "source": [
    "from sklearn.linear_model import LinearRegression\n",
    "\n",
    "features = ['hd','ram','speed','screen','ads','trend','premium','multi']\n",
    "# features = ['screen','hd','ram','speed']\n",
    "x = train[features]\n",
    "y = train.price\n",
    "\n",
    "reg = LinearRegression()\n",
    "reg.fit(x,y)"
   ]
  },
  {
   "cell_type": "code",
   "execution_count": 32,
   "metadata": {
    "collapsed": false
   },
   "outputs": [
    {
     "name": "stdout",
     "output_type": "stream",
     "text": [
      "-319.296502191\n",
      "[  1.77375969e+00   4.29030183e+01   1.37035213e+01   1.38765738e+02\n",
      "  -1.04145720e-01  -4.38897383e+01  -4.40104859e+02   1.69668470e+02]\n"
     ]
    }
   ],
   "source": [
    "print(reg.intercept_)\n",
    "print(reg.coef_)"
   ]
  },
  {
   "cell_type": "code",
   "execution_count": 33,
   "metadata": {
    "collapsed": false
   },
   "outputs": [
    {
     "data": {
      "text/plain": [
       "[('hd', 1.773759686050066),\n",
       " ('ram', 42.90301830394661),\n",
       " ('speed', 13.703521253113635),\n",
       " ('screen', 138.76573843846921),\n",
       " ('ads', -0.10414571967648945),\n",
       " ('trend', -43.8897382901608),\n",
       " ('premium', -440.10485904139244),\n",
       " ('multi', 169.66847037801466)]"
      ]
     },
     "execution_count": 33,
     "metadata": {},
     "output_type": "execute_result"
    }
   ],
   "source": [
    "list(zip(features, reg.coef_))"
   ]
  },
  {
   "cell_type": "code",
   "execution_count": 34,
   "metadata": {
    "collapsed": false
   },
   "outputs": [
    {
     "name": "stdout",
     "output_type": "stream",
     "text": [
      "[ 2503.6977015   2340.56954118  1752.22628195 ...,  4310.41837999\n",
      "  3346.37834344  3623.90982032]\n"
     ]
    }
   ],
   "source": [
    "test = pd.read_csv('regression_test.csv')\n",
    "test['cd'] = np.where(test.cd == 'no', 0, 1)\n",
    "test['multi'] = np.where(test.multi == 'no', 0, 1)\n",
    "test['premium'] = np.where(test.premium == 'no', 0, 1)\n",
    "x_test = test[features]\n",
    "# model = make_pipeline(PolynomialFeatures(1), Ridge())\n",
    "# model.fit(x,y)\n",
    "# y = model.predict(x_test)\n",
    "y = reg.predict(x_test)\n",
    "test['price'] = y\n",
    "print y"
   ]
  },
  {
   "cell_type": "code",
   "execution_count": 35,
   "metadata": {
    "collapsed": false
   },
   "outputs": [],
   "source": [
    "actual = pd.read_csv('regression_predicted_result.csv')\n",
    "yy = list(actual.price)"
   ]
  },
  {
   "cell_type": "code",
   "execution_count": 36,
   "metadata": {
    "collapsed": false
   },
   "outputs": [
    {
     "name": "stdout",
     "output_type": "stream",
     "text": [
      "('RMSE:', 554.95723199470365)\n"
     ]
    }
   ],
   "source": [
    "from sklearn import metrics\n",
    "import numpy as np\n",
    "print('RMSE:', np.sqrt(metrics.mean_squared_error(y, yy)))"
   ]
  },
  {
   "cell_type": "code",
   "execution_count": 30,
   "metadata": {
    "collapsed": false
   },
   "outputs": [
    {
     "data": {
      "text/plain": [
       "<seaborn.axisgrid.PairGrid at 0x1128d4d90>"
      ]
     },
     "execution_count": 30,
     "metadata": {},
     "output_type": "execute_result"
    },
    {
     "data": {
      "image/png": "[encoded data removed]",
      "text/plain": [
       "<matplotlib.figure.Figure at 0x1128604d0>"
      ]
     },
     "metadata": {},
     "output_type": "display_data"
    }
   ],
   "source": [
    "# all_features = ['hd','ram','speed','screen','ads','trend','cd','multi','premium']\n",
    "f = ['hd','ram','screen','speed']\n",
    "sns.pairplot(train_n, x_vars=f, y_vars='price', kind='reg')"
   ]
  },
  {
   "cell_type": "code",
   "execution_count": 208,
   "metadata": {
    "collapsed": true
   },
   "outputs": [],
   "source": [
    "from sklearn.linear_model import Ridge\n",
    "from sklearn.preprocessing import PolynomialFeatures\n",
    "from sklearn.pipeline import make_pipeline"
   ]
  },
  {
   "cell_type": "code",
   "execution_count": 250,
   "metadata": {
    "collapsed": false
   },
   "outputs": [
    {
     "ename": "ValueError",
     "evalue": "Found arrays with inconsistent numbers of samples: [2000 4259]",
     "output_type": "error",
     "traceback": [
      "\u001b[0;31m---------------------------------------------------------------------------\u001b[0m",
      "\u001b[0;31mValueError\u001b[0m                                Traceback (most recent call last)",
      "\u001b[0;32m<ipython-input-250-99cfec762e08>\u001b[0m in \u001b[0;36m<module>\u001b[0;34m()\u001b[0m\n\u001b[1;32m      1\u001b[0m \u001b[0mmodel\u001b[0m \u001b[0;34m=\u001b[0m \u001b[0mmake_pipeline\u001b[0m\u001b[0;34m(\u001b[0m\u001b[0mPolynomialFeatures\u001b[0m\u001b[0;34m(\u001b[0m\u001b[0;36m2\u001b[0m\u001b[0;34m)\u001b[0m\u001b[0;34m,\u001b[0m \u001b[0mRidge\u001b[0m\u001b[0;34m(\u001b[0m\u001b[0;34m)\u001b[0m\u001b[0;34m)\u001b[0m\u001b[0;34m\u001b[0m\u001b[0m\n\u001b[0;32m----> 2\u001b[0;31m \u001b[0mmodel\u001b[0m\u001b[0;34m.\u001b[0m\u001b[0mfit\u001b[0m\u001b[0;34m(\u001b[0m\u001b[0mx\u001b[0m\u001b[0;34m,\u001b[0m\u001b[0my\u001b[0m\u001b[0;34m)\u001b[0m\u001b[0;34m\u001b[0m\u001b[0m\n\u001b[0m\u001b[1;32m      3\u001b[0m \u001b[0mp\u001b[0m \u001b[0;34m=\u001b[0m \u001b[0mmodel\u001b[0m\u001b[0;34m.\u001b[0m\u001b[0mpredict\u001b[0m\u001b[0;34m(\u001b[0m\u001b[0mx_test\u001b[0m\u001b[0;34m)\u001b[0m\u001b[0;34m\u001b[0m\u001b[0m\n",
      "\u001b[0;32m/usr/local/lib/python2.7/site-packages/sklearn/pipeline.pyc\u001b[0m in \u001b[0;36mfit\u001b[0;34m(self, X, y, **fit_params)\u001b[0m\n\u001b[1;32m    163\u001b[0m         \"\"\"\n\u001b[1;32m    164\u001b[0m         \u001b[0mXt\u001b[0m\u001b[0;34m,\u001b[0m \u001b[0mfit_params\u001b[0m \u001b[0;34m=\u001b[0m \u001b[0mself\u001b[0m\u001b[0;34m.\u001b[0m\u001b[0m_pre_transform\u001b[0m\u001b[0;34m(\u001b[0m\u001b[0mX\u001b[0m\u001b[0;34m,\u001b[0m \u001b[0my\u001b[0m\u001b[0;34m,\u001b[0m \u001b[0;34m**\u001b[0m\u001b[0mfit_params\u001b[0m\u001b[0;34m)\u001b[0m\u001b[0;34m\u001b[0m\u001b[0m\n\u001b[0;32m--> 165\u001b[0;31m         \u001b[0mself\u001b[0m\u001b[0;34m.\u001b[0m\u001b[0msteps\u001b[0m\u001b[0;34m[\u001b[0m\u001b[0;34m-\u001b[0m\u001b[0;36m1\u001b[0m\u001b[0;34m]\u001b[0m\u001b[0;34m[\u001b[0m\u001b[0;34m-\u001b[0m\u001b[0;36m1\u001b[0m\u001b[0;34m]\u001b[0m\u001b[0;34m.\u001b[0m\u001b[0mfit\u001b[0m\u001b[0;34m(\u001b[0m\u001b[0mXt\u001b[0m\u001b[0;34m,\u001b[0m \u001b[0my\u001b[0m\u001b[0;34m,\u001b[0m \u001b[0;34m**\u001b[0m\u001b[0mfit_params\u001b[0m\u001b[0;34m)\u001b[0m\u001b[0;34m\u001b[0m\u001b[0m\n\u001b[0m\u001b[1;32m    166\u001b[0m         \u001b[0;32mreturn\u001b[0m \u001b[0mself\u001b[0m\u001b[0;34m\u001b[0m\u001b[0m\n\u001b[1;32m    167\u001b[0m \u001b[0;34m\u001b[0m\u001b[0m\n",
      "\u001b[0;32m/usr/local/lib/python2.7/site-packages/sklearn/linear_model/ridge.pyc\u001b[0m in \u001b[0;36mfit\u001b[0;34m(self, X, y, sample_weight)\u001b[0m\n\u001b[1;32m    617\u001b[0m         \u001b[0mself\u001b[0m \u001b[0;34m:\u001b[0m \u001b[0mreturns\u001b[0m \u001b[0man\u001b[0m \u001b[0minstance\u001b[0m \u001b[0mof\u001b[0m \u001b[0mself\u001b[0m\u001b[0;34m.\u001b[0m\u001b[0;34m\u001b[0m\u001b[0m\n\u001b[1;32m    618\u001b[0m         \"\"\"\n\u001b[0;32m--> 619\u001b[0;31m         \u001b[0;32mreturn\u001b[0m \u001b[0msuper\u001b[0m\u001b[0;34m(\u001b[0m\u001b[0mRidge\u001b[0m\u001b[0;34m,\u001b[0m \u001b[0mself\u001b[0m\u001b[0;34m)\u001b[0m\u001b[0;34m.\u001b[0m\u001b[0mfit\u001b[0m\u001b[0;34m(\u001b[0m\u001b[0mX\u001b[0m\u001b[0;34m,\u001b[0m \u001b[0my\u001b[0m\u001b[0;34m,\u001b[0m \u001b[0msample_weight\u001b[0m\u001b[0;34m=\u001b[0m\u001b[0msample_weight\u001b[0m\u001b[0;34m)\u001b[0m\u001b[0;34m\u001b[0m\u001b[0m\n\u001b[0m\u001b[1;32m    620\u001b[0m \u001b[0;34m\u001b[0m\u001b[0m\n\u001b[1;32m    621\u001b[0m \u001b[0;34m\u001b[0m\u001b[0m\n",
      "\u001b[0;32m/usr/local/lib/python2.7/site-packages/sklearn/linear_model/ridge.pyc\u001b[0m in \u001b[0;36mfit\u001b[0;34m(self, X, y, sample_weight)\u001b[0m\n\u001b[1;32m    451\u001b[0m     \u001b[0;32mdef\u001b[0m \u001b[0mfit\u001b[0m\u001b[0;34m(\u001b[0m\u001b[0mself\u001b[0m\u001b[0;34m,\u001b[0m \u001b[0mX\u001b[0m\u001b[0;34m,\u001b[0m \u001b[0my\u001b[0m\u001b[0;34m,\u001b[0m \u001b[0msample_weight\u001b[0m\u001b[0;34m=\u001b[0m\u001b[0mNone\u001b[0m\u001b[0;34m)\u001b[0m\u001b[0;34m:\u001b[0m\u001b[0;34m\u001b[0m\u001b[0m\n\u001b[1;32m    452\u001b[0m         X, y = check_X_y(X, y, ['csr', 'csc', 'coo'], dtype=np.float64,\n\u001b[0;32m--> 453\u001b[0;31m                          multi_output=True, y_numeric=True)\n\u001b[0m\u001b[1;32m    454\u001b[0m \u001b[0;34m\u001b[0m\u001b[0m\n\u001b[1;32m    455\u001b[0m         if ((sample_weight is not None) and\n",
      "\u001b[0;32m/usr/local/lib/python2.7/site-packages/sklearn/utils/validation.pyc\u001b[0m in \u001b[0;36mcheck_X_y\u001b[0;34m(X, y, accept_sparse, dtype, order, copy, force_all_finite, ensure_2d, allow_nd, multi_output, ensure_min_samples, ensure_min_features, y_numeric, warn_on_dtype, estimator)\u001b[0m\n\u001b[1;32m    518\u001b[0m         \u001b[0my\u001b[0m \u001b[0;34m=\u001b[0m \u001b[0my\u001b[0m\u001b[0;34m.\u001b[0m\u001b[0mastype\u001b[0m\u001b[0;34m(\u001b[0m\u001b[0mnp\u001b[0m\u001b[0;34m.\u001b[0m\u001b[0mfloat64\u001b[0m\u001b[0;34m)\u001b[0m\u001b[0;34m\u001b[0m\u001b[0m\n\u001b[1;32m    519\u001b[0m \u001b[0;34m\u001b[0m\u001b[0m\n\u001b[0;32m--> 520\u001b[0;31m     \u001b[0mcheck_consistent_length\u001b[0m\u001b[0;34m(\u001b[0m\u001b[0mX\u001b[0m\u001b[0;34m,\u001b[0m \u001b[0my\u001b[0m\u001b[0;34m)\u001b[0m\u001b[0;34m\u001b[0m\u001b[0m\n\u001b[0m\u001b[1;32m    521\u001b[0m \u001b[0;34m\u001b[0m\u001b[0m\n\u001b[1;32m    522\u001b[0m     \u001b[0;32mreturn\u001b[0m \u001b[0mX\u001b[0m\u001b[0;34m,\u001b[0m \u001b[0my\u001b[0m\u001b[0;34m\u001b[0m\u001b[0m\n",
      "\u001b[0;32m/usr/local/lib/python2.7/site-packages/sklearn/utils/validation.pyc\u001b[0m in \u001b[0;36mcheck_consistent_length\u001b[0;34m(*arrays)\u001b[0m\n\u001b[1;32m    174\u001b[0m     \u001b[0;32mif\u001b[0m \u001b[0mlen\u001b[0m\u001b[0;34m(\u001b[0m\u001b[0muniques\u001b[0m\u001b[0;34m)\u001b[0m \u001b[0;34m>\u001b[0m \u001b[0;36m1\u001b[0m\u001b[0;34m:\u001b[0m\u001b[0;34m\u001b[0m\u001b[0m\n\u001b[1;32m    175\u001b[0m         raise ValueError(\"Found arrays with inconsistent numbers of samples: \"\n\u001b[0;32m--> 176\u001b[0;31m                          \"%s\" % str(uniques))\n\u001b[0m\u001b[1;32m    177\u001b[0m \u001b[0;34m\u001b[0m\u001b[0m\n\u001b[1;32m    178\u001b[0m \u001b[0;34m\u001b[0m\u001b[0m\n",
      "\u001b[0;31mValueError\u001b[0m: Found arrays with inconsistent numbers of samples: [2000 4259]"
     ]
    }
   ],
   "source": [
    "model = make_pipeline(PolynomialFeatures(2), Ridge())\n",
    "model.fit(x,y)\n",
    "p = model.predict(x_test)"
   ]
  },
  {
   "cell_type": "code",
   "execution_count": 247,
   "metadata": {
    "collapsed": false
   },
   "outputs": [
    {
     "name": "stdout",
     "output_type": "stream",
     "text": [
      "1499\n"
     ]
    }
   ],
   "source": [
    "print train['price'][0]"
   ]
  },
  {
   "cell_type": "code",
   "execution_count": 249,
   "metadata": {
    "collapsed": false
   },
   "outputs": [
    {
     "name": "stdout",
     "output_type": "stream",
     "text": [
      "0.01 -13.99\n",
      "-0.0196 36.182\n",
      "-0.0588 94.786\n",
      "0.090552 -166.430648\n",
      "-1.21882992 4017.0445864\n",
      "3.65648976 -13509.7296632\n",
      "75.87216252 -130499.119534\n",
      "-132.77628441 264889.687398\n",
      "172.609169733 -384054.402656\n",
      "-431.522924333 1111172.53016\n",
      "-2071.3100368 4546526.53077\n",
      "6421.06111407 -16726863.2021\n",
      "42379.0033528 -86665060.8566\n",
      "-63568.5050293 145889720.042\n",
      "193248.255289 -521577040.025\n",
      "1109244.98536 -2468070091.42\n",
      "8097488.39312 -12915493986.0\n",
      "-51014176.8766 118607961239.0\n",
      "-168346783.693 352686511838.0\n",
      "3703629241.24 -1.62774505153e+13\n",
      "103701618755.0 -1.75774243789e+14\n",
      "-1.03701618755e+12 2.8984602442e+15\n",
      "0.000732421875 -1.12036132812\n",
      "0.00087890625 -1.52685546875\n",
      "-0.01072265625 45.9815429687\n",
      "-0.322215820312 416.658408203\n",
      "1.88496254883 -3721.80103394\n",
      "-36.1912809375 144585.167345\n",
      "-361.912809375 1120121.14502\n",
      "177.337276594 -575281.12527\n",
      "2525.2828187 -4848542.01189\n",
      "631.320704674 -1259483.80582\n",
      "-3156.60352337 8191387.14314\n",
      "-6944.52775141 17187707.1847\n",
      "-40000.4798481 79960960.2164\n",
      "230402.763925 -616327392.5\n",
      "1036812.43766 -2410588916.57\n",
      "-14204330.396 53905433853.8\n",
      "-211644522.9 509005077576.0\n",
      "-169315618.32 410590374427.0\n",
      "626467787.785 -1.81362424564e+12\n",
      "-5638210090.06 2.19608283008e+13\n",
      "-84347622947.3 2.10784709745e+14\n",
      "-290155822939.0 6.54301380727e+14\n",
      "3.3077763815e+12 -1.15606784534e+16\n",
      "2.97699874335e+13 -8.02301161333e+16\n",
      "1.78619924601e+14 -3.920707345e+17\n",
      "9.75264788322e+14 -1.70573811478e+18\n",
      "-5.36395633577e+15 1.28681312495e+19\n",
      "-2.70343399323e+16 5.39335081649e+19\n",
      "1.09218733326e+17 -2.72937614583e+20\n",
      "2.22806215986e+17 -5.33620887286e+20\n",
      "-1.11403107993e+18 3.33652308439e+21\n",
      "-1.00819812734e+19 2.20795389887e+22\n",
      "-9.17460295876e+18 2.01749519063e+22\n",
      "-1.59638091482e+19 3.392309444e+22\n",
      "-2.87348564668e+19 5.87627814747e+22\n",
      "2.67234165142e+20 -8.21745057811e+23\n",
      "6.14638579826e+20 -1.81011061759e+24\n",
      "6.76102437808e+21 -1.31501924154e+25\n",
      "-1.31501924154e+23 5.24692677373e+26\n",
      "-3.01796915933e+24 5.41725464099e+27\n",
      "1.8107814956e+25 -4.51789983151e+28\n",
      "6.79043060849e+25 -1.50747559508e+29\n",
      "8.48803826061e+25 -1.8631243982e+29\n",
      "6.79043060849e+26 -1.01516937597e+30\n",
      "-4.9570143442e+27 1.15250583503e+31\n",
      "-4.59019528273e+28 6.88070272881e+31\n",
      "2.75411716964e+29 -6.05630365603e+32\n",
      "-2.19227726703e+30 6.78509814146e+33\n",
      "1.8086287453e+31 -7.27068755611e+34\n",
      "2.52303709969e+32 -6.87527609666e+35\n",
      "2.85103192265e+33 -4.8324991089e+36\n",
      "-3.56093887139e+34 1.08394979245e+38\n",
      "-5.16336136352e+34 1.54849207292e+38\n",
      "-1.3166571477e+35 3.74457292805e+38\n",
      "-1.27584077612e+36 2.51978553284e+39\n",
      "1.46083768866e+37 -4.70389735747e+40\n",
      "1.05910732428e+38 -2.7483835065e+41\n",
      "1.12900840768e+39 -1.83915469611e+42\n",
      "-1.88544404082e+40 6.40862429476e+43\n",
      "-1.89298581699e+41 4.72299961338e+44\n",
      "7.47729397709e+41 -2.23571089915e+45\n",
      "2.76659877152e+42 -7.52514865855e+45\n",
      "6.22484723593e+42 -1.61534785772e+46\n",
      "4.33249367621e+43 -8.66065485874e+46\n",
      "1.03979848229e+43 -2.15758185075e+46\n",
      "3.9512342327e+43 -7.0924654477e+46\n",
      "1.97561711635e+44 -2.75598587731e+47\n",
      "-3.94135614712e+45 1.37553329534e+49\n",
      "-2.42393403048e+46 7.21120374067e+49\n",
      "-2.25425864835e+47 4.8353848007e+50\n",
      "3.9449526346e+47 -9.54678537574e+50\n",
      "5.91742895191e+46 -1.48231595245e+50\n",
      "-2.30779729124e+47 6.91185288727e+50\n",
      "-3.69247566599e+48 5.52025112065e+51\n",
      "1.49176016906e+49 -2.98202857795e+52\n",
      "2.67025070262e+49 -5.12688134902e+52\n",
      "-1.535394154e+50 3.98434782964e+53\n",
      "-1.535394154e+51 2.60249309104e+54\n",
      "3.07078830801e+51 -6.12622267448e+54\n",
      "-3.07078830801e+51 6.74038033608e+54\n",
      "-1.535394154e+52 2.75603250644e+55\n",
      "1.69507514602e+53 -5.08353036292e+56\n",
      "2.88840804882e+54 -4.0293292281e+57\n",
      "-4.33261207323e+55 1.29761731593e+59\n",
      "-1.715714381e+56 4.63071311432e+59\n",
      "-1.8512558171e+57 3.18416000541e+60\n",
      "4.16532558847e+57 -8.51809082842e+60\n",
      "-7.66588116199e+42 1.64433150925e+46\n",
      "5.7494108715e+43 -1.72194855601e+47\n",
      "5.7494108715e+44 -1.20450157758e+48\n",
      "-9.77399848154e+45 3.80697240856e+49\n",
      "-1.07513983297e+47 3.11252981645e+50\n",
      "-1.60840919012e+48 2.41100537599e+51\n",
      "2.51876879173e+49 -7.97190322583e+52\n",
      "1.86388890588e+50 -4.70631948735e+53\n",
      "5.59166671765e+50 -1.30006251185e+54\n",
      "-4.13783337106e+50 1.03404455943e+54\n",
      "8.27566674212e+50 -2.31635912112e+54\n",
      "9.1363360833e+51 -1.63997232695e+55\n",
      "-2.77744616932e+52 6.10760412634e+55\n",
      "1.55536985482e+52 -3.6628960081e+55\n",
      "-1.18985793894e+53 3.83134256338e+56\n",
      "-1.07087214504e+54 2.59151059101e+57\n",
      "2.57009314811e+53 -6.53831696878e+56\n",
      "-7.7359803758e+53 2.27824622067e+57\n",
      "-5.80198528185e+54 1.33155562218e+58\n",
      "-5.22178675366e+55 7.80657119673e+58\n",
      "2.45423977422e+56 -5.06800513377e+59\n",
      "-3.19051170649e+56 7.32222436639e+59\n",
      "-1.90154497707e+57 3.42087941374e+60\n",
      "6.10395937638e+57 -1.35507898156e+61\n",
      "1.49547004721e+58 -3.10310034797e+61\n",
      "6.37070240113e+58 -1.11423584996e+62\n",
      "-2.20426303079e+59 4.83835735259e+62\n",
      "-8.81705212317e+58 1.98824525377e+62\n",
      "3.52682084927e+58 -8.44673593399e+61\n",
      "-7.93534691085e+58 2.15841435975e+62\n",
      "-4.95959181928e+59 1.08863040433e+63\n",
      "-3.4717142735e+59 7.72456425853e+62\n",
      "5.88455569358e+60 -2.36559138882e+64\n",
      "9.68009411593e+61 -2.39582329369e+65\n",
      "5.80805646956e+62 -1.14709115274e+66\n",
      "-1.11514684216e+64 4.45501163441e+67\n",
      "-1.67272026323e+65 4.34070908309e+68\n",
      "-6.69088105293e+65 1.53555720165e+69\n",
      "-1.31141268638e+66 2.88379649734e+69\n",
      "-4.24897710386e+66 8.39172978011e+69\n",
      "7.73313832902e+67 -3.01205737915e+71\n",
      "1.46929628251e+69 -3.07817571186e+72\n",
      "-4.40788884754e+68 9.80755268578e+71\n",
      "5.61565039177e+69 -2.021072576e+73\n",
      "9.11981623623e+70 -1.89236186902e+74\n",
      "-2.95482046054e+71 7.38409633088e+74\n",
      "-7.09156910529e+70 1.82607904461e+74\n",
      "2.29766839011e+71 -6.89070750195e+74\n",
      "2.07709222466e+72 -4.55921743314e+75\n",
      "-1.59936101299e+73 4.90204150482e+76\n",
      "3.7425047704e+73 -1.27207737146e+77\n",
      "5.62872717468e+74 -1.12293107135e+78\n",
      "2.81436358734e+75 -4.48890992181e+78\n",
      "-2.67364540797e+76 7.07179210409e+79\n",
      "-1.06945816319e+77 2.50787939268e+80\n",
      "3.74310357116e+77 -1.04619744814e+81\n",
      "3.74310357116e+78 -7.09318126735e+81\n",
      "-1.87155178558e+79 4.66952170502e+82\n",
      "7.48620714232e+77 -1.94566523629e+81\n",
      "8.26477268512e+78 -1.31823124328e+82\n",
      "-2.51249089628e+79 5.02246930166e+82\n",
      "8.19072032187e+79 -1.98624967805e+83\n",
      "2.45721609656e+79 -6.13075416092e+82\n",
      "1.96577287725e+80 -3.52856231466e+83\n",
      "-1.66894117278e+81 4.57957457812e+84\n",
      "1.58716305532e+82 -6.02328379493e+85\n",
      "1.82523751361e+83 -5.01027697487e+86\n",
      "8.14055931072e+83 -1.95292017864e+87\n",
      "-1.18852165937e+84 3.14363978902e+87\n",
      "-9.50817327492e+84 1.84933970197e+88\n",
      "-3.32786064622e+85 5.64072379535e+88\n",
      "1.33114425849e+86 -2.92186164738e+89\n",
      "-6.92195014414e+86 1.94852896558e+90\n",
      "-7.03270134645e+87 1.33550998569e+91\n",
      "4.53609236846e+88 -1.19934282222e+92\n",
      "-4.76743307925e+89 1.80924085358e+93\n",
      "-7.15114961888e+90 1.71270033372e+94\n",
      "-5.7209196951e+91 9.6969588832e+94\n",
      "4.46231736218e+92 -1.14904672076e+96\n",
      "-8.92463472436e+91 2.40518905821e+95\n",
      "1.82062548377e+92 -5.46005582582e+95\n",
      "2.18475058052e+93 -4.14884135241e+96\n",
      "-1.09237529026e+94 2.72984585036e+97\n",
      "-6.55425174157e+94 1.31019492314e+98\n",
      "-2.88387076629e+94 5.92635442473e+97\n",
      "-2.59548368966e+94 5.35967381915e+97\n",
      "-2.85503205863e+94 5.86709088048e+97\n",
      "-1.59881795283e+94 3.35591888299e+97\n",
      "-3.26158862378e+94 6.50686930443e+97\n",
      "4.07698577972e+94 -9.05090843098e+97\n",
      "-3.66928720175e+95 1.18151047896e+99\n",
      "2.47676886118e+96 -9.89469160041e+99\n",
      "3.24456720815e+97 -9.03611967468e+100\n",
      "1.33027255534e+98 -3.29242457447e+101\n",
      "1.43137326955e+99 -2.14562853105e+102\n",
      "5.72549307818e+97 -9.1321614597e+100\n",
      "-2.31309920359e+98 4.85519522833e+101\n",
      "1.58678605366e+99 -4.57787776481e+102\n",
      "-1.28529670346e+100 4.87770098965e+103\n",
      "-2.05647472554e+101 4.71960949512e+104\n",
      "3.08471208831e+102 -1.2014953584e+106\n",
      "4.9355393413e+103 -1.18206167224e+107\n",
      "-3.15874517843e+104 9.90266613439e+107\n",
      "-2.57437732042e+105 6.22999311542e+108\n",
      "-1.01687904157e+106 2.16086796333e+109\n",
      "7.72828071591e+106 -2.3068917937e+110\n",
      "1.30607944099e+108 -1.82198082018e+111\n",
      "-1.04486355279e+109 2.39796185366e+112\n",
      "-3.13459065837e+109 6.56696742929e+112\n",
      "1.88075439502e+110 -5.25670853409e+113\n",
      "1.78671667527e+111 -3.47516393341e+114\n",
      "-1.05416283841e+112 2.77771907921e+115\n",
      "-4.21665135364e+111 1.13638753981e+115\n",
      "-2.51312420677e+112 5.52636013069e+115\n",
      "4.01094623401e+113 -1.56226355815e+117\n",
      "5.59928094268e+114 -1.455253117e+118\n",
      "-2.57566923363e+114 7.07021204632e+117\n",
      "-2.38249404111e+115 4.57438855893e+118\n",
      "2.08468228597e+116 -6.03515521788e+119\n",
      "1.65940709963e+117 -3.64903621209e+120\n",
      "-1.02219477337e+118 2.97969776438e+121\n",
      "-1.03854988975e+119 2.0760612296e+122\n",
      "6.44939481533e+119 -1.75423538977e+123\n",
      "5.29495314339e+120 -1.05846113336e+124\n",
      "-5.08315501765e+120 1.11575252637e+124\n",
      "-5.08315501765e+120 1.11575252637e+124\n",
      "-4.58699723198e+105 1.05271586474e+109\n",
      "-3.66959778558e+106 5.85300846801e+109\n",
      "0.0 3.0\n",
      "0.0 3.0\n"
     ]
    }
   ],
   "source": [
    "B0 = 0\n",
    "B1 = 0\n",
    "alpha = 0.01\n",
    "\n",
    "terminal_error = 0.0001\n",
    "index = 0\n",
    "\n",
    "while (True):\n",
    "    \n",
    "    i = index % len(train['price'])\n",
    "    p = B1 * train['price'][i] + B0\n",
    "    err = p - train['trend'][i]\n",
    "    B1 = B1 - alpha * err\n",
    "    B0 = train['trend'][i] - B1 * train['price'][i]\n",
    "    \n",
    "    print B1, B0\n",
    "    if abs(err) < abs(terminal_error) or index is 1000:\n",
    "        break\n",
    "    index += 1\n",
    "    "
   ]
  },
  {
   "cell_type": "code",
   "execution_count": 246,
   "metadata": {
    "collapsed": false
   },
   "outputs": [
    {
     "data": {
      "image/png": "[encoded data removed]",
      "text/plain": [
       "<matplotlib.figure.Figure at 0x10ca7b690>"
      ]
     },
     "metadata": {},
     "output_type": "display_data"
    }
   ],
   "source": [
    "plt.scatter(train['trend'],train['price'])\n",
    "plt.show()"
   ]
  },
  {
   "cell_type": "code",
   "execution_count": null,
   "metadata": {
    "collapsed": true
   },
   "outputs": [],
   "source": [
    "def outlierCleaner(feature):\n",
    "    error = "
   ]
  }
 ],
 "metadata": {
  "kernelspec": {
   "display_name": "Python 2",
   "language": "python",
   "name": "python2"
  },
  "language_info": {
   "codemirror_mode": {
    "name": "ipython",
    "version": 2
   },
   "file_extension": ".py",
   "mimetype": "text/x-python",
   "name": "python",
   "nbconvert_exporter": "python",
   "pygments_lexer": "ipython2",
   "version": "2.7.13"
  }
 },
 "nbformat": 4,
 "nbformat_minor": 0
}
