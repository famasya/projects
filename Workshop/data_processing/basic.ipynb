{
 "cells": [
  {
   "cell_type": "markdown",
   "metadata": {},
   "source": [
    "# Ekspresi dasar\n",
    "Python terdiri dari sintaks sederhana yang dapat langsung mengeksekusi kode. Contoh berikut adalah operasi aritmatika sederhana yang bisa dilakukan Python"
   ]
  },
  {
   "cell_type": "code",
   "execution_count": 2,
   "metadata": {},
   "outputs": [
    {
     "data": {
      "text/plain": [
       "7"
      ]
     },
     "execution_count": 2,
     "metadata": {},
     "output_type": "execute_result"
    }
   ],
   "source": [
    "3+4"
   ]
  },
  {
   "cell_type": "code",
   "execution_count": 3,
   "metadata": {},
   "outputs": [
    {
     "data": {
      "text/plain": [
       "256"
      ]
     },
     "execution_count": 3,
     "metadata": {},
     "output_type": "execute_result"
    }
   ],
   "source": [
    "4**4"
   ]
  },
  {
   "cell_type": "code",
   "execution_count": null,
   "metadata": {},
   "outputs": [],
   "source": [
    "12*5"
   ]
  },
  {
   "cell_type": "code",
   "execution_count": 3,
   "metadata": {},
   "outputs": [
    {
     "name": "stdout",
     "output_type": "stream",
     "text": [
      "7\n"
     ]
    }
   ],
   "source": [
    "a = 3\n",
    "b = 4\n",
    "print(a+b)"
   ]
  },
  {
   "cell_type": "markdown",
   "metadata": {},
   "source": [
    "## Variabel\n",
    "Seperti matematika, dalam pemrograman juga dapat menggunakan variable untuk menyimpan data ataupun hasil operasi."
   ]
  },
  {
   "cell_type": "code",
   "execution_count": 5,
   "metadata": {},
   "outputs": [
    {
     "name": "stdout",
     "output_type": "stream",
     "text": [
      "halo cuy\n"
     ]
    }
   ],
   "source": [
    "a = \"halo\"\n",
    "b = \"cuy\"\n",
    "c = a+\" \"+b\n",
    "print(c)"
   ]
  },
  {
   "cell_type": "code",
   "execution_count": 4,
   "metadata": {},
   "outputs": [
    {
     "name": "stdout",
     "output_type": "stream",
     "text": [
      "20\n"
     ]
    }
   ],
   "source": [
    "a = 4\n",
    "b = 5\n",
    "c = a*b\n",
    "print(c)"
   ]
  },
  {
   "cell_type": "code",
   "execution_count": 6,
   "metadata": {},
   "outputs": [
    {
     "data": {
      "text/plain": [
       "48"
      ]
     },
     "execution_count": 6,
     "metadata": {},
     "output_type": "execute_result"
    }
   ],
   "source": [
    "x = 4\n",
    "y = 12\n",
    "\n",
    "x*y"
   ]
  },
  {
   "cell_type": "code",
   "execution_count": 7,
   "metadata": {
    "scrolled": true
   },
   "outputs": [
    {
     "data": {
      "text/plain": [
       "0.3333333333333333"
      ]
     },
     "execution_count": 7,
     "metadata": {},
     "output_type": "execute_result"
    }
   ],
   "source": [
    "1/3"
   ]
  },
  {
   "cell_type": "markdown",
   "metadata": {},
   "source": [
    "Dari operasi di atas, dapat dilihat bahwa Python dapat mengolah berbagai jenis variabel, selama tipenya sama.\n",
    "\n",
    "Namun jika tipenya berbeda, maka ketika akan dieksekusi akan menghasilkan *output* berupa kesalahan kode"
   ]
  },
  {
   "cell_type": "code",
   "execution_count": 6,
   "metadata": {},
   "outputs": [
    {
     "ename": "TypeError",
     "evalue": "must be str, not int",
     "output_type": "error",
     "traceback": [
      "\u001b[0;31m---------------------------------------------------------------------------\u001b[0m",
      "\u001b[0;31mTypeError\u001b[0m                                 Traceback (most recent call last)",
      "\u001b[0;32m<ipython-input-6-92f327a2a0e4>\u001b[0m in \u001b[0;36m<module>\u001b[0;34m()\u001b[0m\n\u001b[1;32m      1\u001b[0m \u001b[0ma\u001b[0m \u001b[0;34m=\u001b[0m \u001b[0;34m\"hallloooo\"\u001b[0m\u001b[0;34m\u001b[0m\u001b[0m\n\u001b[1;32m      2\u001b[0m \u001b[0mb\u001b[0m \u001b[0;34m=\u001b[0m \u001b[0;36m3\u001b[0m\u001b[0;34m\u001b[0m\u001b[0m\n\u001b[0;32m----> 3\u001b[0;31m \u001b[0mprint\u001b[0m\u001b[0;34m(\u001b[0m\u001b[0ma\u001b[0m\u001b[0;34m+\u001b[0m\u001b[0mb\u001b[0m\u001b[0;34m)\u001b[0m\u001b[0;34m\u001b[0m\u001b[0m\n\u001b[0m",
      "\u001b[0;31mTypeError\u001b[0m: must be str, not int"
     ]
    }
   ],
   "source": [
    "a = \"hallloooo\"\n",
    "b = 3\n",
    "print(a+b)"
   ]
  },
  {
   "cell_type": "markdown",
   "metadata": {},
   "source": [
    "## Logika If/Else (controller)\n",
    "\n",
    "Seperti excel, dalam Python juga terdapat logika `if-else`. Sintaksnya adalah:\n",
    "```\n",
    "if kondisi:\n",
    "    perintah\n",
    "elif kondisi:\n",
    "    perintah\n",
    "else:\n",
    "    perintah\n",
    "```"
   ]
  },
  {
   "cell_type": "code",
   "execution_count": 19,
   "metadata": {},
   "outputs": [
    {
     "name": "stdout",
     "output_type": "stream",
     "text": [
      "a sama dengan 4\n"
     ]
    }
   ],
   "source": [
    "a = 4\n",
    "if a < 4:\n",
    "    print('a kurang 4')\n",
    "elif a > 4:\n",
    "    print('a lebih 4')\n",
    "else:\n",
    "    print('a sama dengan 4')"
   ]
  },
  {
   "cell_type": "code",
   "execution_count": 20,
   "metadata": {},
   "outputs": [
    {
     "name": "stdout",
     "output_type": "stream",
     "text": [
      "Enter a value: 4\n",
      "the entered value is equal to 4\n"
     ]
    }
   ],
   "source": [
    "a = float(input('Enter a value: '))\n",
    "if a < 4:\n",
    "    print('angka yang dimasukkan kurang dari 4')\n",
    "elif a > 4:\n",
    "    print('angka yang dimasukkan lebih dari 4')\n",
    "else:\n",
    "    print('angka yang dimasukkan sama dengan dari 4')"
   ]
  },
  {
   "cell_type": "markdown",
   "metadata": {},
   "source": [
    "## Tipe data\n",
    "Ada beberapa tipe data dalam Python selain teks `str`, integer `int` dan float `float`. Tipe data yang lebih kompleks berbentuk (mirip) array.  \n",
    "<img src=\"files/array.png\">\n",
    "\n",
    "Array seperti sebuah almari yang bisa memiliki indeks. Selain itu, array bisa memiliki `1`, `2` hingga `N` dimensi. Kita bisa mengakses elemennya menggunakan indeks dari array tersebut"
   ]
  },
  {
   "cell_type": "code",
   "execution_count": 8,
   "metadata": {},
   "outputs": [
    {
     "name": "stdout",
     "output_type": "stream",
     "text": [
      "o\n"
     ]
    }
   ],
   "source": [
    "teks = \"Hello\"\n",
    "print(teks[4])"
   ]
  },
  {
   "cell_type": "markdown",
   "metadata": {},
   "source": [
    "Dalam Python, ada tiga jenis array. Yang pertama bertipe `list`, `dict` dan `set`. Dalam `list`, indeks direpresentasikan dalam bentuk angka, dan urutan data menjadi penting."
   ]
  },
  {
   "cell_type": "code",
   "execution_count": 14,
   "metadata": {},
   "outputs": [],
   "source": [
    "list_ = [1, 2, 3, 4, 5, 5]"
   ]
  },
  {
   "cell_type": "code",
   "execution_count": 15,
   "metadata": {},
   "outputs": [
    {
     "data": {
      "text/plain": [
       "5"
      ]
     },
     "execution_count": 15,
     "metadata": {},
     "output_type": "execute_result"
    }
   ],
   "source": [
    "list_[4]"
   ]
  },
  {
   "cell_type": "markdown",
   "metadata": {},
   "source": [
    "Sedangkan `dict`, data direpresentasikan dalam bentuk `key` dan `value` dan urutan tidak penting."
   ]
  },
  {
   "cell_type": "code",
   "execution_count": 12,
   "metadata": {},
   "outputs": [],
   "source": [
    "dict_ = {\n",
    "    \"nama\": \"John Doe\",\n",
    "    \"umur\": 22,\n",
    "    \"alamat\": \"Trenggalek\"\n",
    "}"
   ]
  },
  {
   "cell_type": "code",
   "execution_count": 13,
   "metadata": {},
   "outputs": [
    {
     "data": {
      "text/plain": [
       "{'alamat': 'Trenggalek', 'nama': 'John Doe', 'umur': 22}"
      ]
     },
     "execution_count": 13,
     "metadata": {},
     "output_type": "execute_result"
    }
   ],
   "source": [
    "dict_"
   ]
  },
  {
   "cell_type": "code",
   "execution_count": 11,
   "metadata": {},
   "outputs": [
    {
     "data": {
      "text/plain": [
       "'John Doe'"
      ]
     },
     "execution_count": 11,
     "metadata": {},
     "output_type": "execute_result"
    }
   ],
   "source": [
    "dict_[\"nama\"]"
   ]
  },
  {
   "cell_type": "markdown",
   "metadata": {},
   "source": [
    "Untuk `set`, bentuknya seperti `list` namun tidak boleh ada duplikasi. Urutan juga penting"
   ]
  },
  {
   "cell_type": "code",
   "execution_count": 21,
   "metadata": {},
   "outputs": [],
   "source": [
    "sets = set(list_)"
   ]
  },
  {
   "cell_type": "code",
   "execution_count": 22,
   "metadata": {},
   "outputs": [
    {
     "data": {
      "text/plain": [
       "{1, 2, 3, 4, 5}"
      ]
     },
     "execution_count": 22,
     "metadata": {},
     "output_type": "execute_result"
    }
   ],
   "source": [
    "sets"
   ]
  },
  {
   "cell_type": "markdown",
   "metadata": {},
   "source": [
    "### Iterasi (pengulangan)"
   ]
  },
  {
   "cell_type": "markdown",
   "metadata": {},
   "source": [
    "Kita juga bisa melakukan iterasi dalam struktur data tersebut. Contohnya adalah list berikut"
   ]
  },
  {
   "cell_type": "code",
   "execution_count": 23,
   "metadata": {},
   "outputs": [
    {
     "name": "stdout",
     "output_type": "stream",
     "text": [
      "1\n",
      "2\n",
      "3\n",
      "4\n",
      "5\n"
     ]
    }
   ],
   "source": [
    "for n in sets:\n",
    "    print(n)"
   ]
  },
  {
   "cell_type": "code",
   "execution_count": 27,
   "metadata": {},
   "outputs": [
    {
     "name": "stdout",
     "output_type": "stream",
     "text": [
      "0 Oke!\n",
      "1 Oke!\n",
      "2 Oke!\n",
      "3 Oke!\n",
      "4 Oke!\n"
     ]
    }
   ],
   "source": [
    "for index, value in enumerate(sets):\n",
    "    print(index, \"Oke!\")"
   ]
  },
  {
   "cell_type": "code",
   "execution_count": 26,
   "metadata": {},
   "outputs": [
    {
     "name": "stdout",
     "output_type": "stream",
     "text": [
      "1 * 1 = 1\n",
      "2 * 2 = 4\n",
      "3 * 3 = 9\n",
      "4 * 4 = 16\n",
      "5 * 5 = 25\n"
     ]
    }
   ],
   "source": [
    "for n in sets:\n",
    "    s = n*n\n",
    "    print(n,\"*\",n,\"=\",s)"
   ]
  },
  {
   "cell_type": "code",
   "execution_count": 28,
   "metadata": {},
   "outputs": [
    {
     "name": "stdout",
     "output_type": "stream",
     "text": [
      "0\n",
      "1\n",
      "2\n",
      "3\n",
      "4\n",
      "5\n"
     ]
    }
   ],
   "source": [
    "for n in range(6):\n",
    "    print(n)"
   ]
  },
  {
   "cell_type": "code",
   "execution_count": 15,
   "metadata": {},
   "outputs": [
    {
     "name": "stdout",
     "output_type": "stream",
     "text": [
      "a range with 10 values: [0, 1, 2, 3, 4, 5, 6, 7, 8, 9]\n",
      "a range from 10 till 20 [10, 11, 12, 13, 14, 15, 16, 17, 18, 19]\n",
      "a range from 10 till 20 with steps of 2: [10, 12, 14, 16, 18]\n"
     ]
    }
   ],
   "source": [
    "print('a range with 10 values:', list(range(10)))\n",
    "print('a range from 10 till 20', list(range(10, 20)))\n",
    "print('a range from 10 till 20 with steps of 2:', list(range(10, 20, 2)))"
   ]
  },
  {
   "cell_type": "code",
   "execution_count": 18,
   "metadata": {},
   "outputs": [
    {
     "name": "stdout",
     "output_type": "stream",
     "text": [
      "\"a\" kurang dari 4\n"
     ]
    }
   ],
   "source": [
    "a = 3\n",
    "if a < 4:\n",
    "    print(\"\\\"a\\\" kurang dari 4\")\n",
    "else:\n",
    "    print(\"\\\"a\\\" lebih dari 4\")"
   ]
  },
  {
   "cell_type": "code",
   "execution_count": 21,
   "metadata": {},
   "outputs": [
    {
     "name": "stdout",
     "output_type": "stream",
     "text": [
      "i, datasum:  0 1\n",
      "i, datasum:  1 4\n",
      "i, datasum:  2 6\n",
      "i, datasum:  3 11\n",
      "i, datasum:  4 18\n",
      "i, datasum:  5 21\n",
      "i, datasum:  6 25\n",
      "i, datasum:  7 27\n",
      "total sum of data:  27\n"
     ]
    }
   ],
   "source": [
    "data = [1, 3, 2, 5, 7, 3, 4, 2]\n",
    "datasum = 0\n",
    "for i in range(len(data)):\n",
    "    datasum = datasum + data[i]\n",
    "    print('i, datasum: ', i, datasum)\n",
    "print('total sum of data: ', datasum)"
   ]
  },
  {
   "cell_type": "code",
   "execution_count": 5,
   "metadata": {},
   "outputs": [
    {
     "name": "stdout",
     "output_type": "stream",
     "text": [
      "\n",
      "\n",
      "*\n",
      "\n",
      "**\n",
      "\n",
      "***\n",
      "\n",
      "****\n",
      "\n",
      "*****\n",
      "\n"
     ]
    }
   ],
   "source": [
    "for i in range(0, 6):\n",
    "    p = \"\"\n",
    "    for j in range(0, i):\n",
    "        p += \"*\"\n",
    "    print(p)\n",
    "    print()"
   ]
  },
  {
   "cell_type": "markdown",
   "metadata": {},
   "source": [
    "## Fungsi\n",
    "Fungsi disini mirip dengan fungsi dalam matematika karena dapat melakukan operasi terhadap variable yang dimasukkan."
   ]
  },
  {
   "cell_type": "code",
   "execution_count": 1,
   "metadata": {},
   "outputs": [
    {
     "data": {
      "text/plain": [
       "3"
      ]
     },
     "execution_count": 1,
     "metadata": {},
     "output_type": "execute_result"
    }
   ],
   "source": [
    "def tambah(a, b):\n",
    "    return a+b\n",
    "\n",
    "tambah(1, 2)"
   ]
  },
  {
   "cell_type": "code",
   "execution_count": 6,
   "metadata": {},
   "outputs": [
    {
     "name": "stdout",
     "output_type": "stream",
     "text": [
      "f = 1\n",
      "f = 1 * 2 = 2\n",
      "f = 2 * 3 = 6\n",
      "f = 6 * 4 = 24\n"
     ]
    },
    {
     "data": {
      "text/plain": [
       "24"
      ]
     },
     "execution_count": 6,
     "metadata": {},
     "output_type": "execute_result"
    }
   ],
   "source": [
    "def faktorial(n):\n",
    "    f = 1\n",
    "    print(\"f = 1\",)\n",
    "    for i in range(2,n+1):\n",
    "        print(\"f =\",f,\"*\",i,\"=\",f*i)\n",
    "        f = f*i\n",
    "        \n",
    "    return f\n",
    "\n",
    "faktorial(4)"
   ]
  },
  {
   "cell_type": "markdown",
   "metadata": {},
   "source": [
    "Fungsi juga dapat menerima parameter dengan nilai default untuk mencegah error"
   ]
  },
  {
   "cell_type": "code",
   "execution_count": 7,
   "metadata": {},
   "outputs": [
    {
     "ename": "TypeError",
     "evalue": "tambahlagi() missing 1 required positional argument: 'b'",
     "output_type": "error",
     "traceback": [
      "\u001b[0;31m---------------------------------------------------------------------------\u001b[0m",
      "\u001b[0;31mTypeError\u001b[0m                                 Traceback (most recent call last)",
      "\u001b[0;32m<ipython-input-7-57166eb2677f>\u001b[0m in \u001b[0;36m<module>\u001b[0;34m()\u001b[0m\n\u001b[1;32m      2\u001b[0m     \u001b[0;32mreturn\u001b[0m \u001b[0ma\u001b[0m\u001b[0;34m+\u001b[0m\u001b[0mb\u001b[0m\u001b[0;34m\u001b[0m\u001b[0m\n\u001b[1;32m      3\u001b[0m \u001b[0;34m\u001b[0m\u001b[0m\n\u001b[0;32m----> 4\u001b[0;31m \u001b[0mtambahlagi\u001b[0m\u001b[0;34m(\u001b[0m\u001b[0;36m1\u001b[0m\u001b[0;34m)\u001b[0m\u001b[0;34m\u001b[0m\u001b[0m\n\u001b[0m",
      "\u001b[0;31mTypeError\u001b[0m: tambahlagi() missing 1 required positional argument: 'b'"
     ]
    }
   ],
   "source": [
    "def tambahlagi(a, b):\n",
    "    return a+b\n",
    "\n",
    "tambahlagi(1)"
   ]
  },
  {
   "cell_type": "code",
   "execution_count": 10,
   "metadata": {},
   "outputs": [
    {
     "data": {
      "text/plain": [
       "2"
      ]
     },
     "execution_count": 10,
     "metadata": {},
     "output_type": "execute_result"
    }
   ],
   "source": [
    "def tambahlagi(a, b=None):\n",
    "    if b is None:\n",
    "        return a\n",
    "    else:\n",
    "        return a+b\n",
    "\n",
    "tambahlagi(2)"
   ]
  },
  {
   "cell_type": "markdown",
   "metadata": {},
   "source": [
    "---"
   ]
  },
  {
   "cell_type": "markdown",
   "metadata": {},
   "source": [
    "## Studi kasus"
   ]
  },
  {
   "cell_type": "markdown",
   "metadata": {},
   "source": [
    "#### Rekombinasi DNA\n",
    "\n",
    "Professor X adalah seorang ilmuwan bioinformatika yang sedang melakukan penelitian tentang mutasi DNA. Dia menjelaskan kepada Anda tentang dua jenis mutasi DNA.\n",
    "\n",
    "> Ketika Adenine (A) bertukar dengan Cytosine (C), atau Guanine (G) bertukar dengan Thymine (T) maka terjadi *transversi*  \n",
    "> Ketika Adenine (A) bertukar dengan Guanine (G), atau Cytosine (C) bertukar dengan Thymine (T) maka terjadi *transisi*\n",
    "\n",
    "<img src=\"files/bio.gif\" width=\"400px\">\n",
    "\n",
    "Namun karena ada ribuan baris mutasi, Professor X bingung. Dengan pengetahuan Anda, tolong bantu Professor X demi keberlangsungan umat manusia!"
   ]
  },
  {
   "cell_type": "code",
   "execution_count": 13,
   "metadata": {},
   "outputs": [],
   "source": [
    "def cek_mutasi(awal, akhir):\n",
    "    if awal == \"A\" and akhir == \"C\":\n",
    "        return \"Transversi\"\n",
    "    elif awal == \"A\" and akhir == \"G\":\n",
    "        return \"Transisi\"\n",
    "    elif awal == \"A\" and akhir == \"T\":\n",
    "        return \"Transversi\"\n",
    "    elif awal == \"C\" and akhir == \"G\":\n",
    "        return \"Transversi\"\n",
    "    elif awal == \"C\" and akhir == \"T\":\n",
    "        return \"Transisi\"\n",
    "    elif awal == \"C\" and akhir == \"A\":\n",
    "        return \"Tranversi\"\n",
    "    elif awal == \"G\" and akhir == \"T\":\n",
    "        return \"Transversi\"\n",
    "    elif awal == \"G\" and akhir == \"A\":\n",
    "        return \"Transisi\"\n",
    "    elif awal == \"G\" and akhir == \"C\":\n",
    "        return \"Transversi\"\n",
    "    elif awal == \"T\" and akhir == \"A\":\n",
    "        return \"Transversi\"\n",
    "    elif awal == \"T\" and akhir == \"G\":\n",
    "        return \"Transversi\"\n",
    "    elif awal == \"T\" and akhir == \"C\":\n",
    "        return \"Transisi\""
   ]
  },
  {
   "cell_type": "code",
   "execution_count": 16,
   "metadata": {},
   "outputs": [
    {
     "name": "stdout",
     "output_type": "stream",
     "text": [
      "A => C = Transversi\n",
      "G => T = Transversi\n",
      "C => T = Transisi\n",
      "A => G = Transisi\n",
      "T => A = Transversi\n"
     ]
    }
   ],
   "source": [
    "gen = [\n",
    "    [\"A\",\"C\"],\n",
    "    [\"G\",\"T\"],\n",
    "    [\"C\",\"T\"],\n",
    "    [\"A\",\"G\"],\n",
    "    [\"T\",\"A\"],\n",
    "]\n",
    "\n",
    "for i in gen:\n",
    "    awal = i[0]\n",
    "    akhir = i[1]\n",
    "    mutasi = cek_mutasi(awal, akhir)\n",
    "    print(awal,\"=>\",akhir,\"=\",mutasi)"
   ]
  },
  {
   "cell_type": "markdown",
   "metadata": {},
   "source": [
    "Kode di atas terlalu panjang. Mari kita coba lakukan optimasi menggunakan *sedikit* logika matematika\n",
    "\n",
    "<img src=\"files/logic.png\">"
   ]
  },
  {
   "cell_type": "code",
   "execution_count": 6,
   "metadata": {},
   "outputs": [],
   "source": [
    "def cek_mutasi_2(awal, akhir):\n",
    "    if (awal == \"A\" and akhir == \"G\") or (awal == \"G\" and akhir == \"A\") or (awal == \"C\" and akhir == \"T\") or (awal == \"T\" and akhir == \"C\"):\n",
    "        return \"Transisi\"\n",
    "    else:\n",
    "        return \"Transversi\""
   ]
  },
  {
   "cell_type": "code",
   "execution_count": 4,
   "metadata": {},
   "outputs": [
    {
     "name": "stdout",
     "output_type": "stream",
     "text": [
      "A => C = Transversi\n",
      "G => T = Transversi\n",
      "C => T = Transisi\n",
      "A => G = Transisi\n",
      "T => A = Transversi\n"
     ]
    }
   ],
   "source": [
    "gen = [\n",
    "    [\"A\",\"C\"],\n",
    "    [\"G\",\"T\"],\n",
    "    [\"C\",\"T\"],\n",
    "    [\"A\",\"G\"],\n",
    "    [\"T\",\"A\"],\n",
    "]\n",
    "\n",
    "for i in gen:\n",
    "    awal = i[0]\n",
    "    akhir = i[1]\n",
    "    mutasi = cek_mutasi_2(awal, akhir)\n",
    "    print(awal,\"=>\",akhir,\"=\",mutasi)"
   ]
  },
  {
   "cell_type": "markdown",
   "metadata": {},
   "source": [
    "---"
   ]
  },
  {
   "cell_type": "markdown",
   "metadata": {},
   "source": [
    "# Visualisasi data\n",
    "\n",
    "Python juga sangat berguna dalam visualisasi data. Berbeda dengan excel, dalam Python user diberi keleluasaan untuk melakukan visualisasi dengan library yang banyak disediakan."
   ]
  },
  {
   "cell_type": "markdown",
   "metadata": {},
   "source": [
    "### Studi kasus\n",
    "\n",
    "Bapak Kepala Dinas Kesehatan Kab. Trenggalek ingin membuat analisa tentang korelasi ukuran masyarakat dengan berat otaknya. Tolong bantu ya!"
   ]
  },
  {
   "cell_type": "markdown",
   "metadata": {},
   "source": [
    "#### Simple Linear Regression\n",
    "\n",
    "Simple Linear Regression (SLR) adalah salah satu analisa sederhana untuk menganalisa kausalitas (hubungan) dari dua variable. Dalam SLR, kita akan menggunakan matematika sederhana untuk melakukan analisanya\n",
    "\n",
    "$y = \\beta_1X + \\beta_0 + \\epsilon $ \n",
    "\n",
    "atau bisa diingat seperti persamaan garis waktu SMP dulu\n",
    "\n",
    "$y = mx + c $\n",
    "\n",
    "dengen $\\beta_1$ adalah **koefisien** atau **gradien** dan $\\beta_0$ adalah **bias** atau **offset**. Sedangkan $\\epsilon$ adalah nilai kesalahan atau error\n",
    "\n",
    "Nantinya, output analisa linear regression dapat berupa grafik seperti berikut\n",
    "\n",
    "<img src=\"files/slr.png\" >"
   ]
  },
  {
   "cell_type": "markdown",
   "metadata": {},
   "source": [
    "#### Garis regresi\n",
    "\n",
    "Garis regresi (merah) sangat penting dalam SLR karena mampu digunakan untuk melihat sebab akibat, atau bahkan prediksi di masa depan\n",
    "\n",
    "#### Menghitung error\n",
    "\n",
    "Jadi bagaimana cara menganalisa apakah dua variable berhubungan? Kita bisa melihat dari \"kedekatan\" data dari garis regresi (merah). Dekat tidaknya data ke garis regresi bisa juga disebut *error*. Jadi garis regresi yang bagus didapat jika mampu meminimalisir error.\n",
    "\n",
    "<img src=\"files/slr2.png\" width=\"600px\">\n",
    "\n",
    "Garis regresi di atas didapat seperti persamaan garis yang telah dijelaskan sebelumnya\n",
    "\n",
    "$ y = mx + c $\n",
    "\n",
    "Dan untuk meminimalisir error rumus yang digunakan adalah\n",
    "\n",
    "$m = \\frac{\\sum_{i=1}^m(x_i-\\bar{x})(y_i-\\bar{y})}{\\sum_{i=1}^m(x_i-\\bar{x})^2}$\n",
    "\n",
    "sedangkan untuk $c$\n",
    "\n",
    "$c = \\bar{y} - m\\bar{x}$\n",
    "\n",
    "dalam hal ini $\\bar{y}$ adalah **rata-rata nilai y** sedangkan $\\bar{x}$ adalah **rata-rata nilai x**"
   ]
  },
  {
   "cell_type": "markdown",
   "metadata": {},
   "source": [
    "#### Implementasi\n",
    "\n",
    "Kita akan menggunakan matplotlib sebagai library visualisasi serta numpy dan pandas sebagai library analisa data"
   ]
  },
  {
   "cell_type": "code",
   "execution_count": 21,
   "metadata": {},
   "outputs": [],
   "source": [
    "import numpy as np\n",
    "import pandas as pd\n",
    "import matplotlib.pyplot as plt\n",
    "%matplotlib inline\n",
    "\n",
    "plt.rcParams['figure.figsize'] = (20.0, 10.0)\n"
   ]
  },
  {
   "cell_type": "markdown",
   "metadata": {},
   "source": [
    "Kemudian kita akan melakukan loading data CSV dengan menggunakan pandas"
   ]
  },
  {
   "cell_type": "code",
   "execution_count": 13,
   "metadata": {},
   "outputs": [
    {
     "name": "stdout",
     "output_type": "stream",
     "text": [
      "(237, 4)\n"
     ]
    },
    {
     "data": {
      "text/html": [
       "<div>\n",
       "<style scoped>\n",
       "    .dataframe tbody tr th:only-of-type {\n",
       "        vertical-align: middle;\n",
       "    }\n",
       "\n",
       "    .dataframe tbody tr th {\n",
       "        vertical-align: top;\n",
       "    }\n",
       "\n",
       "    .dataframe thead th {\n",
       "        text-align: right;\n",
       "    }\n",
       "</style>\n",
       "<table border=\"1\" class=\"dataframe\">\n",
       "  <thead>\n",
       "    <tr style=\"text-align: right;\">\n",
       "      <th></th>\n",
       "      <th>Gender</th>\n",
       "      <th>Age Range</th>\n",
       "      <th>Head Size(cm^3)</th>\n",
       "      <th>Brain Weight(grams)</th>\n",
       "    </tr>\n",
       "  </thead>\n",
       "  <tbody>\n",
       "    <tr>\n",
       "      <th>0</th>\n",
       "      <td>1</td>\n",
       "      <td>1</td>\n",
       "      <td>4512</td>\n",
       "      <td>1530</td>\n",
       "    </tr>\n",
       "    <tr>\n",
       "      <th>1</th>\n",
       "      <td>1</td>\n",
       "      <td>1</td>\n",
       "      <td>3738</td>\n",
       "      <td>1297</td>\n",
       "    </tr>\n",
       "    <tr>\n",
       "      <th>2</th>\n",
       "      <td>1</td>\n",
       "      <td>1</td>\n",
       "      <td>4261</td>\n",
       "      <td>1335</td>\n",
       "    </tr>\n",
       "    <tr>\n",
       "      <th>3</th>\n",
       "      <td>1</td>\n",
       "      <td>1</td>\n",
       "      <td>3777</td>\n",
       "      <td>1282</td>\n",
       "    </tr>\n",
       "    <tr>\n",
       "      <th>4</th>\n",
       "      <td>1</td>\n",
       "      <td>1</td>\n",
       "      <td>4177</td>\n",
       "      <td>1590</td>\n",
       "    </tr>\n",
       "  </tbody>\n",
       "</table>\n",
       "</div>"
      ],
      "text/plain": [
       "   Gender  Age Range  Head Size(cm^3)  Brain Weight(grams)\n",
       "0       1          1             4512                 1530\n",
       "1       1          1             3738                 1297\n",
       "2       1          1             4261                 1335\n",
       "3       1          1             3777                 1282\n",
       "4       1          1             4177                 1590"
      ]
     },
     "execution_count": 13,
     "metadata": {},
     "output_type": "execute_result"
    }
   ],
   "source": [
    "data = pd.read_csv('headbrain.csv')\n",
    "print(data.shape)\n",
    "data.head()\n"
   ]
  },
  {
   "cell_type": "markdown",
   "metadata": {},
   "source": [
    "Kita akan melakukan analisa, apakah faktor ukuran kepala berkorelasi dengan berat otaknya?"
   ]
  },
  {
   "cell_type": "code",
   "execution_count": 16,
   "metadata": {},
   "outputs": [],
   "source": [
    "X = data['Head Size(cm^3)'].values\n",
    "Y = data['Brain Weight(grams)'].values"
   ]
  },
  {
   "cell_type": "markdown",
   "metadata": {},
   "source": [
    "Kemudian tinggal mengaplikasikan rumus yang ada"
   ]
  },
  {
   "cell_type": "code",
   "execution_count": 19,
   "metadata": {},
   "outputs": [
    {
     "name": "stdout",
     "output_type": "stream",
     "text": [
      "0.263429339489 325.573421049\n"
     ]
    }
   ],
   "source": [
    "# Mean X and Y\n",
    "mean_x = np.mean(X)\n",
    "mean_y = np.mean(Y)\n",
    "\n",
    "# Jumlah total X\n",
    "j = len(X)\n",
    "\n",
    "a = 0\n",
    "b = 0\n",
    "for i in range(j):\n",
    "    a += (X[i] - mean_x) * (Y[i] - mean_y)\n",
    "    b += (X[i] - mean_x) ** 2\n",
    "m = a / b\n",
    "c = mean_y - (m * mean_x)\n",
    "\n",
    "print(m, c)"
   ]
  },
  {
   "cell_type": "markdown",
   "metadata": {},
   "source": [
    "Dari sini kita tahu bahwa nilai koefisien (m) dan offset (c) kita. Sehingga persamaan garis kita adalah\n",
    "\n",
    "$$y = mx + c$$\n",
    "\n",
    "$$y = 0.263429339489x + 325.573421049$$\n",
    "\n",
    "Sekarang mari kita lihat grafiknya"
   ]
  },
  {
   "cell_type": "code",
   "execution_count": 33,
   "metadata": {},
   "outputs": [
    {
     "data": {
      "image/png": "[encoded data removed]",
      "text/plain": [
       "<matplotlib.figure.Figure at 0x10fcd7518>"
      ]
     },
     "metadata": {},
     "output_type": "display_data"
    }
   ],
   "source": [
    "\n",
    "max_x = np.max(X) + 100\n",
    "min_x = np.min(X) - 100\n",
    "\n",
    "# Buat garis dengan nilai x = random, dan nilai y = mx + c\n",
    "x = np.linspace(min_x, max_x, 10)\n",
    "y = m * x + c\n",
    "\n",
    "# Ploting Line\n",
    "plt.plot(x, y, color='#58b970', label='Garis regresi')\n",
    "# Ploting Scatter Points\n",
    "plt.scatter(X, Y, c='#ef5423', label='Scatter Plot')\n",
    "\n",
    "plt.xlabel('Head Size in cm3')\n",
    "plt.ylabel('Brain Weight in grams')\n",
    "plt.legend()\n",
    "plt.show()"
   ]
  },
  {
   "cell_type": "markdown",
   "metadata": {},
   "source": [
    "#### Seberapa akurat model yang dibuat?\n",
    "\n",
    "Untuk menghitung akurasinya, kita dapat menggunakan $R^2$ (dibaca: *R squared*). Nilai dari $R^2$ akan menunjukkan kecocokan antara hasil garis prediksi dengan hasil sebenarnya (fitness), antara 0 (tidak dapat menjelaskan data) hingga 1 (menjelaskan semuanya). \n",
    "\n",
    "Rumusnya:\n",
    "\n",
    "$R = 1-\\frac{SS_{residual}}{SS_{total}}$\n",
    "\n",
    "$SS_{residual} = \\sum_{i=1}^m(y_i-\\bar{y})^2$\n",
    "\n",
    "$SS_{total} = \\sum_{i=1}^m(y_i-\\hat{y})^2$\n",
    "\n",
    "Dimana $\\hat{y}$ adalah nilai $y$ dari garis regresi (prediksi)"
   ]
  },
  {
   "cell_type": "code",
   "execution_count": 34,
   "metadata": {},
   "outputs": [
    {
     "name": "stdout",
     "output_type": "stream",
     "text": [
      "0.639311719957\n"
     ]
    }
   ],
   "source": [
    "ss_t = 0\n",
    "ss_r = 0\n",
    "for i in range(j):\n",
    "    y_pred = b0 + b1 * X[i]\n",
    "    ss_t += (Y[i] - mean_y) ** 2\n",
    "    ss_r += (Y[i] - y_pred) ** 2\n",
    "r2 = 1 - (ss_r/ss_t)\n",
    "print(r2)"
   ]
  },
  {
   "cell_type": "markdown",
   "metadata": {},
   "source": [
    "Dari plotting regresi tersebut kita bisa memperoleh beberapa kesimpulan:\n",
    "1. Ada korelasi linear positif (naik) antara ukuran kepala dengan berat otak\n",
    "2. Nilai $R^2$ yang menunjukkan 0.639 berarti garis regresi kita cukup bagus merepresentasikan korelasi dua variable tersebut"
   ]
  },
  {
   "cell_type": "markdown",
   "metadata": {},
   "source": [
    "##### Tambahan\n",
    "\n",
    "<img src=\"files/good-bad.png\">"
   ]
  },
  {
   "cell_type": "code",
   "execution_count": null,
   "metadata": {},
   "outputs": [],
   "source": []
  }
 ],
 "metadata": {
  "kernelspec": {
   "display_name": "Python 3",
   "language": "python",
   "name": "python3"
  },
  "language_info": {
   "codemirror_mode": {
    "name": "ipython",
    "version": 3
   },
   "file_extension": ".py",
   "mimetype": "text/x-python",
   "name": "python",
   "nbconvert_exporter": "python",
   "pygments_lexer": "ipython3",
   "version": "3.6.1"
  }
 },
 "nbformat": 4,
 "nbformat_minor": 2
}
