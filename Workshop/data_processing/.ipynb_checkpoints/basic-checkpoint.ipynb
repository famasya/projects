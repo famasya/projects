{
 "cells": [
  {
   "cell_type": "markdown",
   "metadata": {},
   "source": [
    "### Ekspresi dasar\n",
    "Python terdiri dari sintaks sederhana yang dapat langsung mengeksekusi kode. Contoh berikut adalah operasi aritmatika sederhana yang bisa dilakukan Python"
   ]
  },
  {
   "cell_type": "code",
   "execution_count": 2,
   "metadata": {},
   "outputs": [
    {
     "data": {
      "text/plain": [
       "7"
      ]
     },
     "execution_count": 2,
     "metadata": {},
     "output_type": "execute_result"
    }
   ],
   "source": [
    "3+4"
   ]
  },
  {
   "cell_type": "code",
   "execution_count": 3,
   "metadata": {},
   "outputs": [
    {
     "data": {
      "text/plain": [
       "256"
      ]
     },
     "execution_count": 3,
     "metadata": {},
     "output_type": "execute_result"
    }
   ],
   "source": [
    "4**4"
   ]
  },
  {
   "cell_type": "code",
   "execution_count": null,
   "metadata": {},
   "outputs": [],
   "source": [
    "12*5"
   ]
  },
  {
   "cell_type": "code",
   "execution_count": 3,
   "metadata": {},
   "outputs": [
    {
     "name": "stdout",
     "output_type": "stream",
     "text": [
      "7\n"
     ]
    }
   ],
   "source": [
    "a = 3\n",
    "b = 4\n",
    "print(a+b)"
   ]
  },
  {
   "cell_type": "markdown",
   "metadata": {},
   "source": [
    "## Variabel\n",
    "Seperti matematika, dalam pemrograman juga dapat menggunakan variable untuk menyimpan data ataupun hasil operasi."
   ]
  },
  {
   "cell_type": "code",
   "execution_count": 5,
   "metadata": {},
   "outputs": [
    {
     "name": "stdout",
     "output_type": "stream",
     "text": [
      "halo cuy\n"
     ]
    }
   ],
   "source": [
    "a = \"halo\"\n",
    "b = \"cuy\"\n",
    "c = a+\" \"+b\n",
    "print(c)"
   ]
  },
  {
   "cell_type": "code",
   "execution_count": 4,
   "metadata": {},
   "outputs": [
    {
     "name": "stdout",
     "output_type": "stream",
     "text": [
      "20\n"
     ]
    }
   ],
   "source": [
    "a = 4\n",
    "b = 5\n",
    "c = a*b\n",
    "print(c)"
   ]
  },
  {
   "cell_type": "code",
   "execution_count": 6,
   "metadata": {},
   "outputs": [
    {
     "data": {
      "text/plain": [
       "48"
      ]
     },
     "execution_count": 6,
     "metadata": {},
     "output_type": "execute_result"
    }
   ],
   "source": [
    "x = 4\n",
    "y = 12\n",
    "\n",
    "x*y"
   ]
  },
  {
   "cell_type": "code",
   "execution_count": 7,
   "metadata": {
    "scrolled": true
   },
   "outputs": [
    {
     "data": {
      "text/plain": [
       "0.3333333333333333"
      ]
     },
     "execution_count": 7,
     "metadata": {},
     "output_type": "execute_result"
    }
   ],
   "source": [
    "1/3"
   ]
  },
  {
   "cell_type": "markdown",
   "metadata": {},
   "source": [
    "Dari operasi di atas, dapat dilihat bahwa Python dapat mengolah berbagai jenis variabel, selama tipenya sama.\n",
    "\n",
    "Namun jika tipenya berbeda, maka ketika akan dieksekusi akan menghasilkan *output* berupa kesalahan kode"
   ]
  },
  {
   "cell_type": "code",
   "execution_count": 6,
   "metadata": {},
   "outputs": [
    {
     "ename": "TypeError",
     "evalue": "must be str, not int",
     "output_type": "error",
     "traceback": [
      "\u001b[0;31m---------------------------------------------------------------------------\u001b[0m",
      "\u001b[0;31mTypeError\u001b[0m                                 Traceback (most recent call last)",
      "\u001b[0;32m<ipython-input-6-92f327a2a0e4>\u001b[0m in \u001b[0;36m<module>\u001b[0;34m()\u001b[0m\n\u001b[1;32m      1\u001b[0m \u001b[0ma\u001b[0m \u001b[0;34m=\u001b[0m \u001b[0;34m\"hallloooo\"\u001b[0m\u001b[0;34m\u001b[0m\u001b[0m\n\u001b[1;32m      2\u001b[0m \u001b[0mb\u001b[0m \u001b[0;34m=\u001b[0m \u001b[0;36m3\u001b[0m\u001b[0;34m\u001b[0m\u001b[0m\n\u001b[0;32m----> 3\u001b[0;31m \u001b[0mprint\u001b[0m\u001b[0;34m(\u001b[0m\u001b[0ma\u001b[0m\u001b[0;34m+\u001b[0m\u001b[0mb\u001b[0m\u001b[0;34m)\u001b[0m\u001b[0;34m\u001b[0m\u001b[0m\n\u001b[0m",
      "\u001b[0;31mTypeError\u001b[0m: must be str, not int"
     ]
    }
   ],
   "source": [
    "a = \"hallloooo\"\n",
    "b = 3\n",
    "print(a+b)"
   ]
  },
  {
   "cell_type": "markdown",
   "metadata": {},
   "source": [
    "## Logika If/Else (controller)\n",
    "\n",
    "Seperti excel, dalam Python juga terdapat logika `if-else`. Sintaksnya adalah:\n",
    "```\n",
    "if kondisi:\n",
    "    perintah\n",
    "elif kondisi:\n",
    "    perintah\n",
    "else:\n",
    "    perintah\n",
    "```"
   ]
  },
  {
   "cell_type": "code",
   "execution_count": 19,
   "metadata": {},
   "outputs": [
    {
     "name": "stdout",
     "output_type": "stream",
     "text": [
      "a sama dengan 4\n"
     ]
    }
   ],
   "source": [
    "a = 4\n",
    "if a < 4:\n",
    "    print('a kurang 4')\n",
    "elif a > 4:\n",
    "    print('a lebih 4')\n",
    "else:\n",
    "    print('a sama dengan 4')"
   ]
  },
  {
   "cell_type": "code",
   "execution_count": 20,
   "metadata": {},
   "outputs": [
    {
     "name": "stdout",
     "output_type": "stream",
     "text": [
      "Enter a value: 4\n",
      "the entered value is equal to 4\n"
     ]
    }
   ],
   "source": [
    "a = float(input('Enter a value: '))\n",
    "if a < 4:\n",
    "    print('angka yang dimasukkan kurang dari 4')\n",
    "elif a > 4:\n",
    "    print('angka yang dimasukkan lebih dari 4')\n",
    "else:\n",
    "    print('angka yang dimasukkan sama dengan dari 4')"
   ]
  },
  {
   "cell_type": "markdown",
   "metadata": {},
   "source": [
    "## Tipe data\n",
    "Ada beberapa tipe data dalam Python selain teks `str`, integer `int` dan float `float`. Tipe data yang lebih kompleks berbentuk (mirip) array.  \n",
    "<img src=\"files/array.png\">\n",
    "\n",
    "Array seperti sebuah almari yang bisa memiliki indeks. Selain itu, array bisa memiliki `1`, `2` hingga `N` dimensi. Kita bisa mengakses elemennya menggunakan indeks dari array tersebut"
   ]
  },
  {
   "cell_type": "code",
   "execution_count": 8,
   "metadata": {},
   "outputs": [
    {
     "name": "stdout",
     "output_type": "stream",
     "text": [
      "o\n"
     ]
    }
   ],
   "source": [
    "teks = \"Hello\"\n",
    "print(teks[4])"
   ]
  },
  {
   "cell_type": "markdown",
   "metadata": {},
   "source": [
    "Dalam Python, ada tiga jenis array. Yang pertama bertipe `list`, `dict` dan `set`. Dalam `list`, indeks direpresentasikan dalam bentuk angka, dan urutan data menjadi penting."
   ]
  },
  {
   "cell_type": "code",
   "execution_count": 14,
   "metadata": {},
   "outputs": [],
   "source": [
    "list_ = [1, 2, 3, 4, 5, 5]"
   ]
  },
  {
   "cell_type": "code",
   "execution_count": 15,
   "metadata": {},
   "outputs": [
    {
     "data": {
      "text/plain": [
       "5"
      ]
     },
     "execution_count": 15,
     "metadata": {},
     "output_type": "execute_result"
    }
   ],
   "source": [
    "list_[4]"
   ]
  },
  {
   "cell_type": "markdown",
   "metadata": {},
   "source": [
    "Sedangkan `dict`, data direpresentasikan dalam bentuk `key` dan `value` dan urutan tidak penting."
   ]
  },
  {
   "cell_type": "code",
   "execution_count": 12,
   "metadata": {},
   "outputs": [],
   "source": [
    "dict_ = {\n",
    "    \"nama\": \"John Doe\",\n",
    "    \"umur\": 22,\n",
    "    \"alamat\": \"Trenggalek\"\n",
    "}"
   ]
  },
  {
   "cell_type": "code",
   "execution_count": 13,
   "metadata": {},
   "outputs": [
    {
     "data": {
      "text/plain": [
       "{'alamat': 'Trenggalek', 'nama': 'John Doe', 'umur': 22}"
      ]
     },
     "execution_count": 13,
     "metadata": {},
     "output_type": "execute_result"
    }
   ],
   "source": [
    "dict_"
   ]
  },
  {
   "cell_type": "code",
   "execution_count": 11,
   "metadata": {},
   "outputs": [
    {
     "data": {
      "text/plain": [
       "'John Doe'"
      ]
     },
     "execution_count": 11,
     "metadata": {},
     "output_type": "execute_result"
    }
   ],
   "source": [
    "dict_[\"nama\"]"
   ]
  },
  {
   "cell_type": "markdown",
   "metadata": {},
   "source": [
    "Untuk `set`, bentuknya seperti `list` namun tidak boleh ada duplikasi. Urutan juga penting"
   ]
  },
  {
   "cell_type": "code",
   "execution_count": 21,
   "metadata": {},
   "outputs": [],
   "source": [
    "sets = set(list_)"
   ]
  },
  {
   "cell_type": "code",
   "execution_count": 22,
   "metadata": {},
   "outputs": [
    {
     "data": {
      "text/plain": [
       "{1, 2, 3, 4, 5}"
      ]
     },
     "execution_count": 22,
     "metadata": {},
     "output_type": "execute_result"
    }
   ],
   "source": [
    "sets"
   ]
  },
  {
   "cell_type": "markdown",
   "metadata": {},
   "source": [
    "### Iterasi (pengulangan)"
   ]
  },
  {
   "cell_type": "markdown",
   "metadata": {},
   "source": [
    "Kita juga bisa melakukan iterasi dalam struktur data tersebut. Contohnya adalah list berikut"
   ]
  },
  {
   "cell_type": "code",
   "execution_count": 23,
   "metadata": {},
   "outputs": [
    {
     "name": "stdout",
     "output_type": "stream",
     "text": [
      "1\n",
      "2\n",
      "3\n",
      "4\n",
      "5\n"
     ]
    }
   ],
   "source": [
    "for n in sets:\n",
    "    print(n)"
   ]
  },
  {
   "cell_type": "code",
   "execution_count": 27,
   "metadata": {},
   "outputs": [
    {
     "name": "stdout",
     "output_type": "stream",
     "text": [
      "0 Oke!\n",
      "1 Oke!\n",
      "2 Oke!\n",
      "3 Oke!\n",
      "4 Oke!\n"
     ]
    }
   ],
   "source": [
    "for index, value in enumerate(sets):\n",
    "    print(index, \"Oke!\")"
   ]
  },
  {
   "cell_type": "code",
   "execution_count": 26,
   "metadata": {},
   "outputs": [
    {
     "name": "stdout",
     "output_type": "stream",
     "text": [
      "1 * 1 = 1\n",
      "2 * 2 = 4\n",
      "3 * 3 = 9\n",
      "4 * 4 = 16\n",
      "5 * 5 = 25\n"
     ]
    }
   ],
   "source": [
    "for n in sets:\n",
    "    s = n*n\n",
    "    print(n,\"*\",n,\"=\",s)"
   ]
  },
  {
   "cell_type": "code",
   "execution_count": 28,
   "metadata": {},
   "outputs": [
    {
     "name": "stdout",
     "output_type": "stream",
     "text": [
      "0\n",
      "1\n",
      "2\n",
      "3\n",
      "4\n",
      "5\n"
     ]
    }
   ],
   "source": [
    "for n in range(6):\n",
    "    print(n)"
   ]
  },
  {
   "cell_type": "code",
   "execution_count": 15,
   "metadata": {},
   "outputs": [
    {
     "name": "stdout",
     "output_type": "stream",
     "text": [
      "a range with 10 values: [0, 1, 2, 3, 4, 5, 6, 7, 8, 9]\n",
      "a range from 10 till 20 [10, 11, 12, 13, 14, 15, 16, 17, 18, 19]\n",
      "a range from 10 till 20 with steps of 2: [10, 12, 14, 16, 18]\n"
     ]
    }
   ],
   "source": [
    "print('a range with 10 values:', list(range(10)))\n",
    "print('a range from 10 till 20', list(range(10, 20)))\n",
    "print('a range from 10 till 20 with steps of 2:', list(range(10, 20, 2)))"
   ]
  },
  {
   "cell_type": "code",
   "execution_count": 18,
   "metadata": {},
   "outputs": [
    {
     "name": "stdout",
     "output_type": "stream",
     "text": [
      "\"a\" kurang dari 4\n"
     ]
    }
   ],
   "source": [
    "a = 3\n",
    "if a < 4:\n",
    "    print(\"\\\"a\\\" kurang dari 4\")\n",
    "else:\n",
    "    print(\"\\\"a\\\" lebih dari 4\")"
   ]
  },
  {
   "cell_type": "code",
   "execution_count": 21,
   "metadata": {},
   "outputs": [
    {
     "name": "stdout",
     "output_type": "stream",
     "text": [
      "i, datasum:  0 1\n",
      "i, datasum:  1 4\n",
      "i, datasum:  2 6\n",
      "i, datasum:  3 11\n",
      "i, datasum:  4 18\n",
      "i, datasum:  5 21\n",
      "i, datasum:  6 25\n",
      "i, datasum:  7 27\n",
      "total sum of data:  27\n"
     ]
    }
   ],
   "source": [
    "data = [1, 3, 2, 5, 7, 3, 4, 2]\n",
    "datasum = 0\n",
    "for i in range(len(data)):\n",
    "    datasum = datasum + data[i]\n",
    "    print('i, datasum: ', i, datasum)\n",
    "print('total sum of data: ', datasum)"
   ]
  },
  {
   "cell_type": "code",
   "execution_count": 5,
   "metadata": {},
   "outputs": [
    {
     "name": "stdout",
     "output_type": "stream",
     "text": [
      "\n",
      "\n",
      "*\n",
      "\n",
      "**\n",
      "\n",
      "***\n",
      "\n",
      "****\n",
      "\n",
      "*****\n",
      "\n"
     ]
    }
   ],
   "source": [
    "for i in range(0, 6):\n",
    "    p = \"\"\n",
    "    for j in range(0, i):\n",
    "        p += \"*\"\n",
    "    print(p)\n",
    "    print()"
   ]
  },
  {
   "cell_type": "markdown",
   "metadata": {},
   "source": [
    "## Fungsi\n",
    "Fungsi disini mirip dengan fungsi dalam matematika karena dapat melakukan operasi terhadap variable yang dimasukkan."
   ]
  },
  {
   "cell_type": "code",
   "execution_count": 1,
   "metadata": {},
   "outputs": [
    {
     "data": {
      "text/plain": [
       "3"
      ]
     },
     "execution_count": 1,
     "metadata": {},
     "output_type": "execute_result"
    }
   ],
   "source": [
    "def tambah(a, b):\n",
    "    return a+b\n",
    "\n",
    "tambah(1, 2)"
   ]
  },
  {
   "cell_type": "code",
   "execution_count": 6,
   "metadata": {},
   "outputs": [
    {
     "name": "stdout",
     "output_type": "stream",
     "text": [
      "f = 1\n",
      "f = 1 * 2 = 2\n",
      "f = 2 * 3 = 6\n",
      "f = 6 * 4 = 24\n"
     ]
    },
    {
     "data": {
      "text/plain": [
       "24"
      ]
     },
     "execution_count": 6,
     "metadata": {},
     "output_type": "execute_result"
    }
   ],
   "source": [
    "def faktorial(n):\n",
    "    f = 1\n",
    "    print(\"f = 1\",)\n",
    "    for i in range(2,n+1):\n",
    "        print(\"f =\",f,\"*\",i,\"=\",f*i)\n",
    "        f = f*i\n",
    "        \n",
    "    return f\n",
    "\n",
    "faktorial(4)"
   ]
  },
  {
   "cell_type": "markdown",
   "metadata": {},
   "source": [
    "Fungsi juga dapat menerima parameter dengan nilai default untuk mencegah error"
   ]
  },
  {
   "cell_type": "code",
   "execution_count": 7,
   "metadata": {},
   "outputs": [
    {
     "ename": "TypeError",
     "evalue": "tambahlagi() missing 1 required positional argument: 'b'",
     "output_type": "error",
     "traceback": [
      "\u001b[0;31m---------------------------------------------------------------------------\u001b[0m",
      "\u001b[0;31mTypeError\u001b[0m                                 Traceback (most recent call last)",
      "\u001b[0;32m<ipython-input-7-57166eb2677f>\u001b[0m in \u001b[0;36m<module>\u001b[0;34m()\u001b[0m\n\u001b[1;32m      2\u001b[0m     \u001b[0;32mreturn\u001b[0m \u001b[0ma\u001b[0m\u001b[0;34m+\u001b[0m\u001b[0mb\u001b[0m\u001b[0;34m\u001b[0m\u001b[0m\n\u001b[1;32m      3\u001b[0m \u001b[0;34m\u001b[0m\u001b[0m\n\u001b[0;32m----> 4\u001b[0;31m \u001b[0mtambahlagi\u001b[0m\u001b[0;34m(\u001b[0m\u001b[0;36m1\u001b[0m\u001b[0;34m)\u001b[0m\u001b[0;34m\u001b[0m\u001b[0m\n\u001b[0m",
      "\u001b[0;31mTypeError\u001b[0m: tambahlagi() missing 1 required positional argument: 'b'"
     ]
    }
   ],
   "source": [
    "def tambahlagi(a, b):\n",
    "    return a+b\n",
    "\n",
    "tambahlagi(1)"
   ]
  },
  {
   "cell_type": "code",
   "execution_count": 10,
   "metadata": {},
   "outputs": [
    {
     "data": {
      "text/plain": [
       "2"
      ]
     },
     "execution_count": 10,
     "metadata": {},
     "output_type": "execute_result"
    }
   ],
   "source": [
    "def tambahlagi(a, b=None):\n",
    "    if b is None:\n",
    "        return a\n",
    "    else:\n",
    "        return a+b\n",
    "\n",
    "tambahlagi(2)"
   ]
  },
  {
   "cell_type": "markdown",
   "metadata": {},
   "source": [
    "---"
   ]
  },
  {
   "cell_type": "markdown",
   "metadata": {},
   "source": [
    "## Studi kasus"
   ]
  },
  {
   "cell_type": "markdown",
   "metadata": {},
   "source": [
    "#### Rekombinasi DNA\n",
    "\n",
    "Professor X adalah seorang ilmuwan bioinformatika yang sedang melakukan penelitian tentang mutasi DNA. Dia menjelaskan kepada Anda tentang dua jenis mutasi DNA.\n",
    "\n",
    "> Ketika Adenine (A) bertukar dengan Cytosine (C), atau Guanine (G) bertukar dengan Thymine (T) maka terjadi *transversi*  \n",
    "> Ketika Adenine (A) bertukar dengan Guanine (G), atau Cytosine (C) bertukar dengan Thymine (T) maka terjadi *transisi*\n",
    "\n",
    "<img src=\"files/bio.gif\" width=\"400px\">\n",
    "\n",
    "Namun karena ada ribuan baris mutasi, Professor X bingung. Dengan pengetahuan Anda, tolong bantu Professor X demi keberlangsungan umat manusia!"
   ]
  },
  {
   "cell_type": "code",
   "execution_count": 13,
   "metadata": {},
   "outputs": [],
   "source": [
    "def cek_mutasi(awal, akhir):\n",
    "    if awal == \"A\" and akhir == \"C\":\n",
    "        return \"Transversi\"\n",
    "    elif awal == \"A\" and akhir == \"G\":\n",
    "        return \"Transisi\"\n",
    "    elif awal == \"A\" and akhir == \"T\":\n",
    "        return \"Transversi\"\n",
    "    elif awal == \"C\" and akhir == \"G\":\n",
    "        return \"Transversi\"\n",
    "    elif awal == \"C\" and akhir == \"T\":\n",
    "        return \"Transisi\"\n",
    "    elif awal == \"C\" and akhir == \"A\":\n",
    "        return \"Tranversi\"\n",
    "    elif awal == \"G\" and akhir == \"T\":\n",
    "        return \"Transversi\"\n",
    "    elif awal == \"G\" and akhir == \"A\":\n",
    "        return \"Transisi\"\n",
    "    elif awal == \"G\" and akhir == \"C\":\n",
    "        return \"Transversi\"\n",
    "    elif awal == \"T\" and akhir == \"A\":\n",
    "        return \"Transversi\"\n",
    "    elif awal == \"T\" and akhir == \"G\":\n",
    "        return \"Transversi\"\n",
    "    elif awal == \"T\" and akhir == \"C\":\n",
    "        return \"Transisi\""
   ]
  },
  {
   "cell_type": "code",
   "execution_count": 16,
   "metadata": {},
   "outputs": [
    {
     "name": "stdout",
     "output_type": "stream",
     "text": [
      "A => C = Transversi\n",
      "G => T = Transversi\n",
      "C => T = Transisi\n",
      "A => G = Transisi\n",
      "T => A = Transversi\n"
     ]
    }
   ],
   "source": [
    "gen = [\n",
    "    [\"A\",\"C\"],\n",
    "    [\"G\",\"T\"],\n",
    "    [\"C\",\"T\"],\n",
    "    [\"A\",\"G\"],\n",
    "    [\"T\",\"A\"],\n",
    "]\n",
    "\n",
    "for i in gen:\n",
    "    awal = i[0]\n",
    "    akhir = i[1]\n",
    "    mutasi = cek_mutasi(awal, akhir)\n",
    "    print(awal,\"=>\",akhir,\"=\",mutasi)"
   ]
  },
  {
   "cell_type": "markdown",
   "metadata": {},
   "source": [
    "Kode di atas terlalu panjang. Mari kita coba lakukan optimasi menggunakan *sedikit* logika matematika\n",
    "\n",
    "<img src=\"files/logic.png\">"
   ]
  },
  {
   "cell_type": "code",
   "execution_count": 1,
   "metadata": {},
   "outputs": [],
   "source": [
    "def cek_mutasi_2(awal, akhir):\n",
    "    if (awal == \"A\" and akhir == \"G\") or (awal == \"G\" and akhir == \"A\") or (awal == \"C\" and akhir == \"T\") or (awal == \"T\" and akhir == \"C\"):\n",
    "        return \"Transisi\"\n",
    "    else:\n",
    "        return \"Transversi\""
   ]
  },
  {
   "cell_type": "code",
   "execution_count": 4,
   "metadata": {},
   "outputs": [
    {
     "name": "stdout",
     "output_type": "stream",
     "text": [
      "A => C = Transversi\n",
      "G => T = Transversi\n",
      "C => T = Transisi\n",
      "A => G = Transisi\n",
      "T => A = Transversi\n"
     ]
    }
   ],
   "source": [
    "gen = [\n",
    "    [\"A\",\"C\"],\n",
    "    [\"G\",\"T\"],\n",
    "    [\"C\",\"T\"],\n",
    "    [\"A\",\"G\"],\n",
    "    [\"T\",\"A\"],\n",
    "]\n",
    "\n",
    "for i in gen:\n",
    "    awal = i[0]\n",
    "    akhir = i[1]\n",
    "    mutasi = cek_mutasi_2(awal, akhir)\n",
    "    print(awal,\"=>\",akhir,\"=\",mutasi)"
   ]
  },
  {
   "cell_type": "code",
   "execution_count": null,
   "metadata": {},
   "outputs": [],
   "source": []
  }
 ],
 "metadata": {
  "kernelspec": {
   "display_name": "Python 3",
   "language": "python",
   "name": "python3"
  },
  "language_info": {
   "codemirror_mode": {
    "name": "ipython",
    "version": 3
   },
   "file_extension": ".py",
   "mimetype": "text/x-python",
   "name": "python",
   "nbconvert_exporter": "python",
   "pygments_lexer": "ipython3",
   "version": "3.6.1"
  }
 },
 "nbformat": 4,
 "nbformat_minor": 2
}
